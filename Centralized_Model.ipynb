{
  "cells": [
    {
      "cell_type": "markdown",
      "metadata": {
        "id": "view-in-github"
      },
      "source": [
        "<a href=\"https://colab.research.google.com/github/Mahmoud-Attwany/federated-nvd-vulnerability-model/blob/notebooks/Centralized_Model_final.ipynb\" target=\"_parent\"><img src=\"https://colab.research.google.com/assets/colab-badge.svg\" alt=\"Open In Colab\"/></a>"
      ]
    },
    {
      "cell_type": "markdown",
      "metadata": {
        "id": "2qXaPjqkVnRt"
      },
      "source": [
        "# setup lib"
      ]
    },
    {
      "cell_type": "code",
      "execution_count": 1,
      "metadata": {
        "colab": {
          "base_uri": "https://localhost:8080/",
          "height": 1000
        },
        "id": "7fYHIvyjVsl0",
        "outputId": "0c91f709-53ea-4d39-ec22-de1f5f197ae2"
      },
      "outputs": [
        {
          "name": "stdout",
          "output_type": "stream",
          "text": [
            "Requirement already satisfied: pip in c:\\users\\mahmo\\appdata\\local\\programs\\python\\python311\\lib\\site-packages (25.1.1)\n",
            "Requirement already satisfied: numpy==1.26.4 in c:\\users\\mahmo\\appdata\\local\\programs\\python\\python311\\lib\\site-packages (1.26.4)\n",
            "Collecting gensim\n",
            "  Using cached gensim-4.3.3-cp311-cp311-win_amd64.whl.metadata (8.2 kB)\n",
            "Collecting numpy<2.0,>=1.18.5 (from gensim)\n",
            "  Using cached numpy-1.26.4-cp311-cp311-win_amd64.whl.metadata (61 kB)\n",
            "Collecting scipy<1.14.0,>=1.7.0 (from gensim)\n",
            "  Using cached scipy-1.13.1-cp311-cp311-win_amd64.whl.metadata (60 kB)\n",
            "Collecting smart-open>=1.8.1 (from gensim)\n",
            "  Using cached smart_open-7.1.0-py3-none-any.whl.metadata (24 kB)\n",
            "Collecting wrapt (from smart-open>=1.8.1->gensim)\n",
            "  Using cached wrapt-1.17.2-cp311-cp311-win_amd64.whl.metadata (6.5 kB)\n",
            "Using cached gensim-4.3.3-cp311-cp311-win_amd64.whl (24.0 MB)\n",
            "Using cached numpy-1.26.4-cp311-cp311-win_amd64.whl (15.8 MB)\n",
            "Using cached scipy-1.13.1-cp311-cp311-win_amd64.whl (46.2 MB)\n",
            "Using cached smart_open-7.1.0-py3-none-any.whl (61 kB)\n",
            "Using cached wrapt-1.17.2-cp311-cp311-win_amd64.whl (38 kB)\n",
            "Installing collected packages: wrapt, numpy, smart-open, scipy, gensim\n",
            "\n",
            "  Attempting uninstall: wrapt\n",
            "\n",
            "    Found existing installation: wrapt 1.17.2\n",
            "\n",
            "    Uninstalling wrapt-1.17.2:\n",
            "\n",
            "      Successfully uninstalled wrapt-1.17.2\n",
            "\n",
            "  Attempting uninstall: numpy\n",
            "\n",
            "    Found existing installation: numpy 1.26.4\n",
            "\n",
            "   -------- ------------------------------- 1/5 [numpy]\n",
            "   -------- ------------------------------- 1/5 [numpy]\n",
            "   -------- ------------------------------- 1/5 [numpy]\n",
            "   -------- ------------------------------- 1/5 [numpy]\n",
            "   -------- ------------------------------- 1/5 [numpy]\n",
            "    Uninstalling numpy-1.26.4:\n",
            "   -------- ------------------------------- 1/5 [numpy]\n",
            "   -------- ------------------------------- 1/5 [numpy]\n",
            "   -------- ------------------------------- 1/5 [numpy]\n",
            "   -------- ------------------------------- 1/5 [numpy]\n",
            "   -------- ------------------------------- 1/5 [numpy]\n",
            "   -------- ------------------------------- 1/5 [numpy]\n",
            "   -------- ------------------------------- 1/5 [numpy]\n",
            "   -------- ------------------------------- 1/5 [numpy]\n",
            "   -------- ------------------------------- 1/5 [numpy]\n",
            "   -------- ------------------------------- 1/5 [numpy]\n",
            "   -------- ------------------------------- 1/5 [numpy]\n",
            "   -------- ------------------------------- 1/5 [numpy]\n",
            "   -------- ------------------------------- 1/5 [numpy]\n",
            "   -------- ------------------------------- 1/5 [numpy]\n",
            "   -------- ------------------------------- 1/5 [numpy]\n",
            "   -------- ------------------------------- 1/5 [numpy]\n",
            "   -------- ------------------------------- 1/5 [numpy]\n",
            "   -------- ------------------------------- 1/5 [numpy]\n",
            "   -------- ------------------------------- 1/5 [numpy]\n",
            "   -------- ------------------------------- 1/5 [numpy]\n",
            "   -------- ------------------------------- 1/5 [numpy]\n",
            "   -------- ------------------------------- 1/5 [numpy]\n",
            "   -------- ------------------------------- 1/5 [numpy]\n",
            "   -------- ------------------------------- 1/5 [numpy]\n",
            "   -------- ------------------------------- 1/5 [numpy]\n",
            "   -------- ------------------------------- 1/5 [numpy]\n",
            "   -------- ------------------------------- 1/5 [numpy]\n",
            "   -------- ------------------------------- 1/5 [numpy]\n",
            "   -------- ------------------------------- 1/5 [numpy]\n",
            "   -------- ------------------------------- 1/5 [numpy]\n",
            "   -------- ------------------------------- 1/5 [numpy]\n",
            "   -------- ------------------------------- 1/5 [numpy]\n",
            "   -------- ------------------------------- 1/5 [numpy]\n",
            "   -------- ------------------------------- 1/5 [numpy]\n",
            "   -------- ------------------------------- 1/5 [numpy]\n",
            "   -------- ------------------------------- 1/5 [numpy]\n",
            "   -------- ------------------------------- 1/5 [numpy]\n",
            "   -------- ------------------------------- 1/5 [numpy]\n",
            "   -------- ------------------------------- 1/5 [numpy]\n",
            "   -------- ------------------------------- 1/5 [numpy]\n",
            "   -------- ------------------------------- 1/5 [numpy]\n",
            "      Successfully uninstalled numpy-1.26.4\n",
            "   -------- ------------------------------- 1/5 [numpy]\n",
            "   -------- ------------------------------- 1/5 [numpy]\n",
            "   -------- ------------------------------- 1/5 [numpy]\n",
            "   -------- ------------------------------- 1/5 [numpy]\n",
            "   -------- ------------------------------- 1/5 [numpy]\n",
            "   -------- ------------------------------- 1/5 [numpy]\n",
            "   -------- ------------------------------- 1/5 [numpy]\n",
            "   -------- ------------------------------- 1/5 [numpy]\n",
            "   -------- ------------------------------- 1/5 [numpy]\n",
            "   -------- ------------------------------- 1/5 [numpy]\n",
            "   -------- ------------------------------- 1/5 [numpy]\n",
            "   -------- ------------------------------- 1/5 [numpy]\n",
            "   -------- ------------------------------- 1/5 [numpy]\n",
            "   -------- ------------------------------- 1/5 [numpy]\n",
            "   -------- ------------------------------- 1/5 [numpy]\n",
            "   -------- ------------------------------- 1/5 [numpy]\n",
            "   -------- ------------------------------- 1/5 [numpy]\n",
            "   -------- ------------------------------- 1/5 [numpy]\n",
            "   -------- ------------------------------- 1/5 [numpy]\n",
            "   -------- ------------------------------- 1/5 [numpy]\n",
            "   -------- ------------------------------- 1/5 [numpy]\n",
            "   -------- ------------------------------- 1/5 [numpy]\n",
            "   -------- ------------------------------- 1/5 [numpy]\n",
            "   -------- ------------------------------- 1/5 [numpy]\n",
            "   -------- ------------------------------- 1/5 [numpy]\n",
            "   -------- ------------------------------- 1/5 [numpy]\n",
            "   -------- ------------------------------- 1/5 [numpy]\n",
            "   -------- ------------------------------- 1/5 [numpy]\n",
            "   -------- ------------------------------- 1/5 [numpy]\n",
            "   -------- ------------------------------- 1/5 [numpy]\n",
            "   -------- ------------------------------- 1/5 [numpy]\n",
            "   -------- ------------------------------- 1/5 [numpy]\n",
            "   -------- ------------------------------- 1/5 [numpy]\n",
            "   -------- ------------------------------- 1/5 [numpy]\n",
            "   -------- ------------------------------- 1/5 [numpy]\n",
            "   -------- ------------------------------- 1/5 [numpy]\n",
            "   -------- ------------------------------- 1/5 [numpy]\n",
            "   -------- ------------------------------- 1/5 [numpy]\n",
            "   -------- ------------------------------- 1/5 [numpy]\n",
            "  Attempting uninstall: smart-open\n",
            "   -------- ------------------------------- 1/5 [numpy]\n",
            "   ---------------- ----------------------- 2/5 [smart-open]\n",
            "    Found existing installation: smart-open 7.1.0\n",
            "   ---------------- ----------------------- 2/5 [smart-open]\n",
            "    Uninstalling smart-open-7.1.0:\n",
            "   ---------------- ----------------------- 2/5 [smart-open]\n",
            "      Successfully uninstalled smart-open-7.1.0\n",
            "   ---------------- ----------------------- 2/5 [smart-open]\n",
            "   ---------------- ----------------------- 2/5 [smart-open]\n",
            "  Attempting uninstall: scipy\n",
            "   ---------------- ----------------------- 2/5 [smart-open]\n",
            "    Found existing installation: scipy 1.13.1\n",
            "   ---------------- ----------------------- 2/5 [smart-open]\n",
            "   ------------------------ --------------- 3/5 [scipy]\n",
            "   ------------------------ --------------- 3/5 [scipy]\n",
            "   ------------------------ --------------- 3/5 [scipy]\n",
            "   ------------------------ --------------- 3/5 [scipy]\n",
            "   ------------------------ --------------- 3/5 [scipy]\n",
            "   ------------------------ --------------- 3/5 [scipy]\n",
            "   ------------------------ --------------- 3/5 [scipy]\n",
            "   ------------------------ --------------- 3/5 [scipy]\n",
            "   ------------------------ --------------- 3/5 [scipy]\n",
            "   ------------------------ --------------- 3/5 [scipy]\n",
            "    Uninstalling scipy-1.13.1:\n",
            "   ------------------------ --------------- 3/5 [scipy]\n",
            "   ------------------------ --------------- 3/5 [scipy]\n",
            "   ------------------------ --------------- 3/5 [scipy]\n",
            "   ------------------------ --------------- 3/5 [scipy]\n",
            "   ------------------------ --------------- 3/5 [scipy]\n",
            "   ------------------------ --------------- 3/5 [scipy]\n",
            "   ------------------------ --------------- 3/5 [scipy]\n",
            "   ------------------------ --------------- 3/5 [scipy]\n",
            "   ------------------------ --------------- 3/5 [scipy]\n",
            "   ------------------------ --------------- 3/5 [scipy]\n",
            "   ------------------------ --------------- 3/5 [scipy]\n",
            "   ------------------------ --------------- 3/5 [scipy]\n",
            "   ------------------------ --------------- 3/5 [scipy]\n",
            "   ------------------------ --------------- 3/5 [scipy]\n",
            "   ------------------------ --------------- 3/5 [scipy]\n",
            "   ------------------------ --------------- 3/5 [scipy]\n",
            "   ------------------------ --------------- 3/5 [scipy]\n",
            "   ------------------------ --------------- 3/5 [scipy]\n",
            "   ------------------------ --------------- 3/5 [scipy]\n",
            "   ------------------------ --------------- 3/5 [scipy]\n",
            "   ------------------------ --------------- 3/5 [scipy]\n",
            "   ------------------------ --------------- 3/5 [scipy]\n",
            "      Successfully uninstalled scipy-1.13.1\n",
            "   ------------------------ --------------- 3/5 [scipy]\n",
            "   ------------------------ --------------- 3/5 [scipy]\n",
            "   ------------------------ --------------- 3/5 [scipy]\n",
            "   ------------------------ --------------- 3/5 [scipy]\n",
            "   ------------------------ --------------- 3/5 [scipy]\n",
            "   ------------------------ --------------- 3/5 [scipy]\n",
            "   ------------------------ --------------- 3/5 [scipy]\n",
            "   ------------------------ --------------- 3/5 [scipy]\n",
            "   ------------------------ --------------- 3/5 [scipy]\n",
            "   ------------------------ --------------- 3/5 [scipy]\n",
            "   ------------------------ --------------- 3/5 [scipy]\n",
            "   ------------------------ --------------- 3/5 [scipy]\n",
            "   ------------------------ --------------- 3/5 [scipy]\n",
            "   ------------------------ --------------- 3/5 [scipy]\n",
            "   ------------------------ --------------- 3/5 [scipy]\n",
            "   ------------------------ --------------- 3/5 [scipy]\n",
            "   ------------------------ --------------- 3/5 [scipy]\n",
            "   ------------------------ --------------- 3/5 [scipy]\n",
            "   ------------------------ --------------- 3/5 [scipy]\n",
            "   ------------------------ --------------- 3/5 [scipy]\n",
            "   ------------------------ --------------- 3/5 [scipy]\n",
            "   ------------------------ --------------- 3/5 [scipy]\n",
            "   ------------------------ --------------- 3/5 [scipy]\n",
            "   ------------------------ --------------- 3/5 [scipy]\n",
            "   ------------------------ --------------- 3/5 [scipy]\n",
            "   ------------------------ --------------- 3/5 [scipy]\n",
            "   ------------------------ --------------- 3/5 [scipy]\n",
            "   ------------------------ --------------- 3/5 [scipy]\n",
            "   ------------------------ --------------- 3/5 [scipy]\n",
            "   ------------------------ --------------- 3/5 [scipy]\n",
            "   ------------------------ --------------- 3/5 [scipy]\n",
            "   ------------------------ --------------- 3/5 [scipy]\n",
            "   ------------------------ --------------- 3/5 [scipy]\n",
            "   ------------------------ --------------- 3/5 [scipy]\n",
            "   ------------------------ --------------- 3/5 [scipy]\n",
            "   ------------------------ --------------- 3/5 [scipy]\n",
            "   ------------------------ --------------- 3/5 [scipy]\n",
            "   ------------------------ --------------- 3/5 [scipy]\n",
            "   ------------------------ --------------- 3/5 [scipy]\n",
            "   ------------------------ --------------- 3/5 [scipy]\n",
            "   ------------------------ --------------- 3/5 [scipy]\n",
            "   ------------------------ --------------- 3/5 [scipy]\n",
            "   ------------------------ --------------- 3/5 [scipy]\n",
            "   ------------------------ --------------- 3/5 [scipy]\n",
            "   ------------------------ --------------- 3/5 [scipy]\n",
            "   ------------------------ --------------- 3/5 [scipy]\n",
            "   ------------------------ --------------- 3/5 [scipy]\n",
            "   ------------------------ --------------- 3/5 [scipy]\n",
            "   ------------------------ --------------- 3/5 [scipy]\n",
            "   ------------------------ --------------- 3/5 [scipy]\n",
            "   ------------------------ --------------- 3/5 [scipy]\n",
            "   ------------------------ --------------- 3/5 [scipy]\n",
            "   ------------------------ --------------- 3/5 [scipy]\n",
            "   ------------------------ --------------- 3/5 [scipy]\n",
            "   ------------------------ --------------- 3/5 [scipy]\n",
            "   ------------------------ --------------- 3/5 [scipy]\n",
            "   ------------------------ --------------- 3/5 [scipy]\n",
            "   ------------------------ --------------- 3/5 [scipy]\n",
            "   ------------------------ --------------- 3/5 [scipy]\n",
            "   ------------------------ --------------- 3/5 [scipy]\n",
            "   ------------------------ --------------- 3/5 [scipy]\n",
            "   ------------------------ --------------- 3/5 [scipy]\n",
            "   ------------------------ --------------- 3/5 [scipy]\n",
            "   ------------------------ --------------- 3/5 [scipy]\n",
            "   ------------------------ --------------- 3/5 [scipy]\n",
            "   ------------------------ --------------- 3/5 [scipy]\n",
            "   ------------------------ --------------- 3/5 [scipy]\n",
            "   ------------------------ --------------- 3/5 [scipy]\n",
            "   ------------------------ --------------- 3/5 [scipy]\n",
            "  Attempting uninstall: gensim\n",
            "   ------------------------ --------------- 3/5 [scipy]\n",
            "    Found existing installation: gensim 4.3.3\n",
            "   ------------------------ --------------- 3/5 [scipy]\n",
            "   -------------------------------- ------- 4/5 [gensim]\n",
            "   -------------------------------- ------- 4/5 [gensim]\n",
            "   -------------------------------- ------- 4/5 [gensim]\n",
            "    Uninstalling gensim-4.3.3:\n",
            "   -------------------------------- ------- 4/5 [gensim]\n",
            "      Successfully uninstalled gensim-4.3.3\n",
            "   -------------------------------- ------- 4/5 [gensim]\n",
            "   -------------------------------- ------- 4/5 [gensim]\n",
            "   -------------------------------- ------- 4/5 [gensim]\n",
            "   -------------------------------- ------- 4/5 [gensim]\n",
            "   -------------------------------- ------- 4/5 [gensim]\n",
            "   -------------------------------- ------- 4/5 [gensim]\n",
            "   -------------------------------- ------- 4/5 [gensim]\n",
            "   -------------------------------- ------- 4/5 [gensim]\n",
            "   -------------------------------- ------- 4/5 [gensim]\n",
            "   -------------------------------- ------- 4/5 [gensim]\n",
            "   -------------------------------- ------- 4/5 [gensim]\n",
            "   -------------------------------- ------- 4/5 [gensim]\n",
            "   -------------------------------- ------- 4/5 [gensim]\n",
            "   ---------------------------------------- 5/5 [gensim]\n",
            "\n",
            "Successfully installed gensim-4.3.3 numpy-1.26.4 scipy-1.13.1 smart-open-7.1.0 wrapt-1.17.2\n",
            "Requirement already satisfied: tensorflow==2.18.1 in c:\\users\\mahmo\\appdata\\local\\programs\\python\\python311\\lib\\site-packages (2.18.1)\n",
            "Requirement already satisfied: absl-py>=1.0.0 in c:\\users\\mahmo\\appdata\\local\\programs\\python\\python311\\lib\\site-packages (from tensorflow==2.18.1) (2.3.0)\n",
            "Requirement already satisfied: astunparse>=1.6.0 in c:\\users\\mahmo\\appdata\\local\\programs\\python\\python311\\lib\\site-packages (from tensorflow==2.18.1) (1.6.3)\n",
            "Requirement already satisfied: flatbuffers>=24.3.25 in c:\\users\\mahmo\\appdata\\local\\programs\\python\\python311\\lib\\site-packages (from tensorflow==2.18.1) (25.2.10)\n",
            "Requirement already satisfied: gast!=0.5.0,!=0.5.1,!=0.5.2,>=0.2.1 in c:\\users\\mahmo\\appdata\\local\\programs\\python\\python311\\lib\\site-packages (from tensorflow==2.18.1) (0.6.0)\n",
            "Requirement already satisfied: google-pasta>=0.1.1 in c:\\users\\mahmo\\appdata\\local\\programs\\python\\python311\\lib\\site-packages (from tensorflow==2.18.1) (0.2.0)\n",
            "Requirement already satisfied: libclang>=13.0.0 in c:\\users\\mahmo\\appdata\\local\\programs\\python\\python311\\lib\\site-packages (from tensorflow==2.18.1) (18.1.1)\n",
            "Requirement already satisfied: opt-einsum>=2.3.2 in c:\\users\\mahmo\\appdata\\local\\programs\\python\\python311\\lib\\site-packages (from tensorflow==2.18.1) (3.4.0)\n",
            "Requirement already satisfied: packaging in c:\\users\\mahmo\\appdata\\local\\programs\\python\\python311\\lib\\site-packages (from tensorflow==2.18.1) (24.2)\n",
            "Requirement already satisfied: protobuf!=4.21.0,!=4.21.1,!=4.21.2,!=4.21.3,!=4.21.4,!=4.21.5,<6.0.0dev,>=3.20.3 in c:\\users\\mahmo\\appdata\\local\\programs\\python\\python311\\lib\\site-packages (from tensorflow==2.18.1) (4.25.8)\n",
            "Requirement already satisfied: requests<3,>=2.21.0 in c:\\users\\mahmo\\appdata\\local\\programs\\python\\python311\\lib\\site-packages (from tensorflow==2.18.1) (2.32.3)\n",
            "Requirement already satisfied: setuptools in c:\\users\\mahmo\\appdata\\local\\programs\\python\\python311\\lib\\site-packages (from tensorflow==2.18.1) (65.5.0)\n",
            "Requirement already satisfied: six>=1.12.0 in c:\\users\\mahmo\\appdata\\roaming\\python\\python311\\site-packages (from tensorflow==2.18.1) (1.17.0)\n",
            "Requirement already satisfied: termcolor>=1.1.0 in c:\\users\\mahmo\\appdata\\local\\programs\\python\\python311\\lib\\site-packages (from tensorflow==2.18.1) (3.1.0)\n",
            "Requirement already satisfied: typing-extensions>=3.6.6 in c:\\users\\mahmo\\appdata\\roaming\\python\\python311\\site-packages (from tensorflow==2.18.1) (4.13.2)\n",
            "Requirement already satisfied: wrapt>=1.11.0 in c:\\users\\mahmo\\appdata\\local\\programs\\python\\python311\\lib\\site-packages (from tensorflow==2.18.1) (1.17.2)\n",
            "Requirement already satisfied: grpcio<2.0,>=1.24.3 in c:\\users\\mahmo\\appdata\\local\\programs\\python\\python311\\lib\\site-packages (from tensorflow==2.18.1) (1.73.0)\n",
            "Requirement already satisfied: tensorboard<2.19,>=2.18 in c:\\users\\mahmo\\appdata\\local\\programs\\python\\python311\\lib\\site-packages (from tensorflow==2.18.1) (2.18.0)\n",
            "Requirement already satisfied: keras>=3.5.0 in c:\\users\\mahmo\\appdata\\local\\programs\\python\\python311\\lib\\site-packages (from tensorflow==2.18.1) (3.10.0)\n",
            "Requirement already satisfied: numpy<2.1.0,>=1.26.0 in c:\\users\\mahmo\\appdata\\local\\programs\\python\\python311\\lib\\site-packages (from tensorflow==2.18.1) (1.26.4)\n",
            "Requirement already satisfied: h5py>=3.11.0 in c:\\users\\mahmo\\appdata\\local\\programs\\python\\python311\\lib\\site-packages (from tensorflow==2.18.1) (3.13.0)\n",
            "Requirement already satisfied: ml-dtypes<1.0.0,>=0.4.0 in c:\\users\\mahmo\\appdata\\local\\programs\\python\\python311\\lib\\site-packages (from tensorflow==2.18.1) (0.5.1)\n",
            "Requirement already satisfied: tensorflow-io-gcs-filesystem>=0.23.1 in c:\\users\\mahmo\\appdata\\local\\programs\\python\\python311\\lib\\site-packages (from tensorflow==2.18.1) (0.31.0)\n",
            "Requirement already satisfied: charset-normalizer<4,>=2 in c:\\users\\mahmo\\appdata\\local\\programs\\python\\python311\\lib\\site-packages (from requests<3,>=2.21.0->tensorflow==2.18.1) (3.4.2)\n",
            "Requirement already satisfied: idna<4,>=2.5 in c:\\users\\mahmo\\appdata\\local\\programs\\python\\python311\\lib\\site-packages (from requests<3,>=2.21.0->tensorflow==2.18.1) (3.10)\n",
            "Requirement already satisfied: urllib3<3,>=1.21.1 in c:\\users\\mahmo\\appdata\\local\\programs\\python\\python311\\lib\\site-packages (from requests<3,>=2.21.0->tensorflow==2.18.1) (2.4.0)\n",
            "Requirement already satisfied: certifi>=2017.4.17 in c:\\users\\mahmo\\appdata\\local\\programs\\python\\python311\\lib\\site-packages (from requests<3,>=2.21.0->tensorflow==2.18.1) (2025.4.26)\n",
            "Requirement already satisfied: markdown>=2.6.8 in c:\\users\\mahmo\\appdata\\local\\programs\\python\\python311\\lib\\site-packages (from tensorboard<2.19,>=2.18->tensorflow==2.18.1) (3.8)\n",
            "Requirement already satisfied: tensorboard-data-server<0.8.0,>=0.7.0 in c:\\users\\mahmo\\appdata\\local\\programs\\python\\python311\\lib\\site-packages (from tensorboard<2.19,>=2.18->tensorflow==2.18.1) (0.7.2)\n",
            "Requirement already satisfied: werkzeug>=1.0.1 in c:\\users\\mahmo\\appdata\\local\\programs\\python\\python311\\lib\\site-packages (from tensorboard<2.19,>=2.18->tensorflow==2.18.1) (3.1.3)\n",
            "Requirement already satisfied: wheel<1.0,>=0.23.0 in c:\\users\\mahmo\\appdata\\local\\programs\\python\\python311\\lib\\site-packages (from astunparse>=1.6.0->tensorflow==2.18.1) (0.45.1)\n",
            "Requirement already satisfied: rich in c:\\users\\mahmo\\appdata\\local\\programs\\python\\python311\\lib\\site-packages (from keras>=3.5.0->tensorflow==2.18.1) (13.9.4)\n",
            "Requirement already satisfied: namex in c:\\users\\mahmo\\appdata\\local\\programs\\python\\python311\\lib\\site-packages (from keras>=3.5.0->tensorflow==2.18.1) (0.1.0)\n",
            "Requirement already satisfied: optree in c:\\users\\mahmo\\appdata\\local\\programs\\python\\python311\\lib\\site-packages (from keras>=3.5.0->tensorflow==2.18.1) (0.16.0)\n",
            "Requirement already satisfied: MarkupSafe>=2.1.1 in c:\\users\\mahmo\\appdata\\local\\programs\\python\\python311\\lib\\site-packages (from werkzeug>=1.0.1->tensorboard<2.19,>=2.18->tensorflow==2.18.1) (3.0.2)\n",
            "Requirement already satisfied: markdown-it-py>=2.2.0 in c:\\users\\mahmo\\appdata\\local\\programs\\python\\python311\\lib\\site-packages (from rich->keras>=3.5.0->tensorflow==2.18.1) (3.0.0)\n",
            "Requirement already satisfied: pygments<3.0.0,>=2.13.0 in c:\\users\\mahmo\\appdata\\roaming\\python\\python311\\site-packages (from rich->keras>=3.5.0->tensorflow==2.18.1) (2.19.1)\n",
            "Requirement already satisfied: mdurl~=0.1 in c:\\users\\mahmo\\appdata\\local\\programs\\python\\python311\\lib\\site-packages (from markdown-it-py>=2.2.0->rich->keras>=3.5.0->tensorflow==2.18.1) (0.1.2)\n",
            "Requirement already satisfied: nltk in c:\\users\\mahmo\\appdata\\local\\programs\\python\\python311\\lib\\site-packages (3.9.1)\n",
            "Requirement already satisfied: click in c:\\users\\mahmo\\appdata\\local\\programs\\python\\python311\\lib\\site-packages (from nltk) (8.1.8)\n",
            "Requirement already satisfied: joblib in c:\\users\\mahmo\\appdata\\local\\programs\\python\\python311\\lib\\site-packages (from nltk) (1.5.1)\n",
            "Requirement already satisfied: regex>=2021.8.3 in c:\\users\\mahmo\\appdata\\local\\programs\\python\\python311\\lib\\site-packages (from nltk) (2024.11.6)\n",
            "Requirement already satisfied: tqdm in c:\\users\\mahmo\\appdata\\local\\programs\\python\\python311\\lib\\site-packages (from nltk) (4.67.1)\n",
            "Requirement already satisfied: colorama in c:\\users\\mahmo\\appdata\\roaming\\python\\python311\\site-packages (from click->nltk) (0.4.6)\n"
          ]
        }
      ],
      "source": [
        "# If running in Jupyter (not Colab), use ! to run shell commands\n",
        "!pip install --upgrade pip\n",
        "# !pip install --upgrade setuptools\n",
        "!pip install numpy==1.26.4\n",
        "!pip install --force-reinstall gensim\n",
        "!pip install tensorflow==2.18.1\n",
        "!pip install nltk\n",
        "#Restart the session"
      ]
    },
    {
      "cell_type": "code",
      "execution_count": 2,
      "metadata": {
        "colab": {
          "base_uri": "https://localhost:8080/"
        },
        "collapsed": true,
        "id": "KXFy5VQ8t-wP",
        "outputId": "eb44b1eb-b650-4c1a-a38f-d9e445d70933"
      },
      "outputs": [
        {
          "name": "stderr",
          "output_type": "stream",
          "text": [
            "[nltk_data] Downloading package punkt_tab to\n",
            "[nltk_data]     C:\\Users\\mahmo\\AppData\\Roaming\\nltk_data...\n",
            "[nltk_data]   Package punkt_tab is already up-to-date!\n"
          ]
        },
        {
          "data": {
            "text/plain": [
              "True"
            ]
          },
          "execution_count": 2,
          "metadata": {},
          "output_type": "execute_result"
        }
      ],
      "source": [
        "import numpy as np\n",
        "import pandas as pd\n",
        "import matplotlib.pyplot as plt\n",
        "import nltk\n",
        "from nltk.tokenize import word_tokenize\n",
        "nltk.download('punkt_tab')"
      ]
    },
    {
      "cell_type": "markdown",
      "metadata": {
        "id": "9eb_VAXeVnRu"
      },
      "source": [
        "# read the dataset"
      ]
    },
    {
      "cell_type": "code",
      "execution_count": null,
      "metadata": {
        "colab": {
          "base_uri": "https://localhost:8080/"
        },
        "id": "xzEGoeSoWk9u",
        "outputId": "d467a8af-d41d-446e-ffcc-5b94df734598"
      },
      "outputs": [
        {
          "name": "stdout",
          "output_type": "stream",
          "text": [
            "Mounted at /content/drive\n"
          ]
        }
      ],
      "source": [
        "# Load your data (update path as needed)\n",
        "from google.colab import drive\n",
        "drive.mount('/content/drive')"
      ]
    },
    {
      "cell_type": "code",
      "execution_count": 3,
      "metadata": {
        "id": "JLfpz6E9LNMz"
      },
      "outputs": [],
      "source": [
        "df = pd.read_csv('/content/drive/MyDrive/Dataset/cleaned_balanced_50/Balanced_dataset.csv')"
      ]
    },
    {
      "cell_type": "code",
      "execution_count": null,
      "metadata": {
        "colab": {
          "background_save": true
        },
        "id": "1yuV_kR1M2rx"
      },
      "outputs": [],
      "source": [
        "df.shape"
      ]
    },
    {
      "cell_type": "code",
      "execution_count": null,
      "metadata": {
        "colab": {
          "background_save": true
        },
        "id": "slgRNsgyHC1l"
      },
      "outputs": [],
      "source": [
        "df.columns"
      ]
    },
    {
      "cell_type": "markdown",
      "metadata": {
        "id": "Voy3G9ldVnRv"
      },
      "source": [
        "# Basic Data Exploration and Preprocessing"
      ]
    },
    {
      "cell_type": "code",
      "execution_count": 4,
      "metadata": {
        "colab": {
          "base_uri": "https://localhost:8080/"
        },
        "id": "2mXhT7MevRdu",
        "outputId": "f15e7e49-3268-42b0-8295-b8c84594df63"
      },
      "outputs": [
        {
          "name": "stdout",
          "output_type": "stream",
          "text": [
            "DataFrame shape: (50922, 15)\n",
            "id                        object\n",
            "sourceIdentifier          object\n",
            "published                 object\n",
            "lastModified              object\n",
            "vulnStatus                object\n",
            "description               object\n",
            "baseSeverity              object\n",
            "baseScore                float64\n",
            "attackVector              object\n",
            "confidentialityImpact     object\n",
            "integrityImpact           object\n",
            "availabilityImpact        object\n",
            "exploitabilityScore      float64\n",
            "impactScore              float64\n",
            "label                      int64\n",
            "dtype: object\n",
            "          baseScore  exploitabilityScore   impactScore         label\n",
            "count  31443.000000         31443.000000  31443.000000  50922.000000\n",
            "mean       7.123519             2.650116      4.319356      0.500000\n",
            "std        1.719826             0.951637      1.547574      0.500005\n",
            "min        0.000000             0.100000      0.000000      0.000000\n",
            "25%        5.700000             1.800000      3.400000      0.000000\n",
            "50%        7.500000             2.800000      3.700000      0.500000\n",
            "75%        8.600000             3.900000      5.900000      1.000000\n",
            "max       10.000000             3.900000      6.000000      1.000000\n",
            "Missing values per column:\n",
            "id                           0\n",
            "sourceIdentifier             0\n",
            "published                    0\n",
            "lastModified                 0\n",
            "vulnStatus                   0\n",
            "description                  0\n",
            "baseSeverity             19479\n",
            "baseScore                19479\n",
            "attackVector             19479\n",
            "confidentialityImpact    19479\n",
            "integrityImpact          19479\n",
            "availabilityImpact       19479\n",
            "exploitabilityScore      19479\n",
            "impactScore              19479\n",
            "label                        0\n",
            "dtype: int64\n"
          ]
        }
      ],
      "source": [
        "print(f\"DataFrame shape: {df.shape}\")\n",
        "print(df.dtypes)\n",
        "print(df.describe())\n",
        "print(\"Missing values per column:\")\n",
        "print(df.isnull().sum())"
      ]
    },
    {
      "cell_type": "code",
      "execution_count": 5,
      "metadata": {
        "colab": {
          "base_uri": "https://localhost:8080/"
        },
        "id": "hgFWgntUM_aU",
        "outputId": "4ab16fb4-e059-4954-b661-c7daeb175779"
      },
      "outputs": [
        {
          "data": {
            "text/plain": [
              "0"
            ]
          },
          "execution_count": 5,
          "metadata": {},
          "output_type": "execute_result"
        }
      ],
      "source": [
        "df['label'].isnull().sum()"
      ]
    },
    {
      "cell_type": "markdown",
      "metadata": {
        "id": "cCrAn0Y1VnRw"
      },
      "source": [
        "# Label distribution and correlation (if needed)"
      ]
    },
    {
      "cell_type": "code",
      "execution_count": 6,
      "metadata": {
        "colab": {
          "base_uri": "https://localhost:8080/"
        },
        "id": "qAmxFuelvTsP",
        "outputId": "fd9fda25-05b4-472f-9db8-166960875edb"
      },
      "outputs": [
        {
          "name": "stdout",
          "output_type": "stream",
          "text": [
            "Label distribution (exploited = 1):\n",
            "label\n",
            "1    0.5\n",
            "0    0.5\n",
            "Name: proportion, dtype: float64\n"
          ]
        }
      ],
      "source": [
        "print(\"Label distribution (exploited = 1):\")\n",
        "print(df['label'].value_counts(normalize=True))"
      ]
    },
    {
      "cell_type": "markdown",
      "metadata": {
        "id": "BNmb2AvfVnRw"
      },
      "source": [
        "# Distribution of data"
      ]
    },
    {
      "cell_type": "code",
      "execution_count": 7,
      "metadata": {
        "colab": {
          "base_uri": "https://localhost:8080/",
          "height": 698
        },
        "id": "r5IZa8iiNozv",
        "outputId": "e695c8cc-3d99-4219-a42c-d9ed9b81eda3"
      },
      "outputs": [
        {
          "name": "stderr",
          "output_type": "stream",
          "text": [
            "/tmp/ipython-input-7-2875763017.py:19: FutureWarning: \n",
            "\n",
            "Passing `palette` without assigning `hue` is deprecated and will be removed in v0.14.0. Assign the `x` variable to `hue` and set `legend=False` for the same effect.\n",
            "\n",
            "  ax = sns.barplot(x='Label', y='Percentage', data=label_dist, palette='viridis', width=0.4)\n"
          ]
        },
        {
          "data": {
            "image/png": "[encoded data removed]",
            "text/plain": [
              "<Figure size 800x600 with 1 Axes>"
            ]
          },
          "metadata": {},
          "output_type": "display_data"
        }
      ],
      "source": [
        "import seaborn as sns\n",
        "import matplotlib.pyplot as plt\n",
        "\n",
        "# Map labels to readable form\n",
        "label_map = {0: '0 - Not Exploited', 1: '1 - Exploited'}\n",
        "\n",
        "# Calculate normalized percentages\n",
        "label_dist = (df['label']\n",
        "              .map(label_map)\n",
        "              .value_counts(normalize=True)\n",
        "              .sort_index()\n",
        "              .mul(100)\n",
        "              .round(2)\n",
        "              .rename_axis('Label')\n",
        "              .reset_index(name='Percentage'))\n",
        "\n",
        "# Create plot\n",
        "plt.figure(figsize=(8, 6))\n",
        "ax = sns.barplot(x='Label', y='Percentage', data=label_dist, palette='viridis', width=0.4)\n",
        "\n",
        "# Titles and labels\n",
        "plt.title('Label Distribution', fontsize=14, pad=20)\n",
        "plt.xlabel('Label', fontsize=12)\n",
        "plt.ylabel('Percentage (%)', fontsize=12)\n",
        "plt.ylim(0, 100)\n",
        "\n",
        "# Annotate bars\n",
        "for p in ax.patches:\n",
        "    ax.annotate(f'{p.get_height()}%',\n",
        "                (p.get_x() + p.get_width() / 2., p.get_height()),\n",
        "                ha='center', va='center',\n",
        "                xytext=(0, 10),\n",
        "                textcoords='offset points',\n",
        "                fontsize=12)\n",
        "\n",
        "sns.despine()\n",
        "plt.tight_layout()\n",
        "plt.show()"
      ]
    },
    {
      "cell_type": "markdown",
      "metadata": {
        "id": "nhFE0uWCVnRx"
      },
      "source": [
        "# Data Cleaning: Filter out unwanted descriptions and drop less useful columns"
      ]
    },
    {
      "cell_type": "code",
      "execution_count": 8,
      "metadata": {
        "colab": {
          "base_uri": "https://localhost:8080/"
        },
        "collapsed": true,
        "id": "dCob7kovvVUD",
        "outputId": "c36813e9-d72e-47e8-dc17-098669dde4e8"
      },
      "outputs": [
        {
          "name": "stderr",
          "output_type": "stream",
          "text": [
            "[nltk_data] Downloading package stopwords to /root/nltk_data...\n",
            "[nltk_data]   Unzipping corpora/stopwords.zip.\n",
            "[nltk_data] Downloading package wordnet to /root/nltk_data...\n"
          ]
        }
      ],
      "source": [
        "# Clean, lowercase, tokenize, lemmatize\n",
        "import re\n",
        "from nltk.corpus import stopwords\n",
        "from nltk.stem import WordNetLemmatizer\n",
        "from nltk.tokenize import word_tokenize\n",
        "nltk.download('stopwords')\n",
        "nltk.download('wordnet')\n",
        "df = df[~df['description'].str.lower().str.contains('do not use|rejected|withdrawn', regex=True, na=False)]\n",
        "df = df.drop(columns=['sourceIdentifier', 'published', 'lastModified'])\n",
        "\n",
        "stop_words = set(stopwords.words('english'))\n",
        "lemmatizer = WordNetLemmatizer()\n",
        "clean_re = re.compile(r'[^a-zA-Z\\s]')\n",
        "\n",
        "def clean_text(text):\n",
        "    text = clean_re.sub('', text.lower().strip())\n",
        "    tokens = word_tokenize(text)\n",
        "    return [lemmatizer.lemmatize(word) for word in tokens if word not in stop_words]\n",
        "\n",
        "df['tokens'] = df['description'].apply(clean_text)\n",
        "df['description'] = df['tokens'].apply(lambda x: ' '.join(x))\n"
      ]
    },
    {
      "cell_type": "code",
      "execution_count": 9,
      "metadata": {
        "colab": {
          "base_uri": "https://localhost:8080/"
        },
        "id": "0QTWXJtxvX56",
        "outputId": "5acdccce-bd7d-472a-e204-fe26b4587de1"
      },
      "outputs": [
        {
          "name": "stdout",
          "output_type": "stream",
          "text": [
            "done\n"
          ]
        }
      ],
      "source": [
        "# Define categorical and numerical columns\n",
        "cat_cols = [\n",
        "    'baseSeverity', 'attackVector'\n",
        "]\n",
        "num_cols = []\n",
        "\n",
        "# Create missing value flags\n",
        "for col in num_cols:\n",
        "    df[f\"{col}_missing\"] = df[col].isna().astype(int)\n",
        "\n",
        "for col in cat_cols:\n",
        "    df[f\"{col}_missing\"] = df[col].isna().astype(int)\n",
        "\n",
        "# Fill missing categorical values with 'UNKNOWN'\n",
        "for col in cat_cols:\n",
        "    df[col] = df[col].fillna('UNKNOWN')\n",
        "\n",
        "print('done')\n",
        "# # Impute missing numerical values using KNNImputer\n",
        "# from sklearn.impute import KNNImputer\n",
        "# imputer = KNNImputer(n_neighbors=5)\n",
        "# df[num_cols] = imputer.fit_transform(df[num_cols])"
      ]
    },
    {
      "cell_type": "markdown",
      "metadata": {
        "id": "lROgMd-zVnRy"
      },
      "source": [
        "# check if there is null data"
      ]
    },
    {
      "cell_type": "code",
      "execution_count": 10,
      "metadata": {
        "colab": {
          "base_uri": "https://localhost:8080/",
          "height": 554
        },
        "collapsed": true,
        "id": "ykpZTUpqIHSI",
        "outputId": "411efc61-2c7a-44c4-a1f9-1cc82f38dd2f"
      },
      "outputs": [
        {
          "data": {
            "text/html": [
              "<div>\n",
              "<style scoped>\n",
              "    .dataframe tbody tr th:only-of-type {\n",
              "        vertical-align: middle;\n",
              "    }\n",
              "\n",
              "    .dataframe tbody tr th {\n",
              "        vertical-align: top;\n",
              "    }\n",
              "\n",
              "    .dataframe thead th {\n",
              "        text-align: right;\n",
              "    }\n",
              "</style>\n",
              "<table border=\"1\" class=\"dataframe\">\n",
              "  <thead>\n",
              "    <tr style=\"text-align: right;\">\n",
              "      <th></th>\n",
              "      <th>0</th>\n",
              "    </tr>\n",
              "  </thead>\n",
              "  <tbody>\n",
              "    <tr>\n",
              "      <th>id</th>\n",
              "      <td>0</td>\n",
              "    </tr>\n",
              "    <tr>\n",
              "      <th>vulnStatus</th>\n",
              "      <td>0</td>\n",
              "    </tr>\n",
              "    <tr>\n",
              "      <th>description</th>\n",
              "      <td>0</td>\n",
              "    </tr>\n",
              "    <tr>\n",
              "      <th>baseSeverity</th>\n",
              "      <td>0</td>\n",
              "    </tr>\n",
              "    <tr>\n",
              "      <th>baseScore</th>\n",
              "      <td>19353</td>\n",
              "    </tr>\n",
              "    <tr>\n",
              "      <th>attackVector</th>\n",
              "      <td>0</td>\n",
              "    </tr>\n",
              "    <tr>\n",
              "      <th>confidentialityImpact</th>\n",
              "      <td>19353</td>\n",
              "    </tr>\n",
              "    <tr>\n",
              "      <th>integrityImpact</th>\n",
              "      <td>19353</td>\n",
              "    </tr>\n",
              "    <tr>\n",
              "      <th>availabilityImpact</th>\n",
              "      <td>19353</td>\n",
              "    </tr>\n",
              "    <tr>\n",
              "      <th>exploitabilityScore</th>\n",
              "      <td>19353</td>\n",
              "    </tr>\n",
              "    <tr>\n",
              "      <th>impactScore</th>\n",
              "      <td>19353</td>\n",
              "    </tr>\n",
              "    <tr>\n",
              "      <th>label</th>\n",
              "      <td>0</td>\n",
              "    </tr>\n",
              "    <tr>\n",
              "      <th>tokens</th>\n",
              "      <td>0</td>\n",
              "    </tr>\n",
              "    <tr>\n",
              "      <th>baseSeverity_missing</th>\n",
              "      <td>0</td>\n",
              "    </tr>\n",
              "    <tr>\n",
              "      <th>attackVector_missing</th>\n",
              "      <td>0</td>\n",
              "    </tr>\n",
              "  </tbody>\n",
              "</table>\n",
              "</div><br><label><b>dtype:</b> int64</label>"
            ],
            "text/plain": [
              "id                           0\n",
              "vulnStatus                   0\n",
              "description                  0\n",
              "baseSeverity                 0\n",
              "baseScore                19353\n",
              "attackVector                 0\n",
              "confidentialityImpact    19353\n",
              "integrityImpact          19353\n",
              "availabilityImpact       19353\n",
              "exploitabilityScore      19353\n",
              "impactScore              19353\n",
              "label                        0\n",
              "tokens                       0\n",
              "baseSeverity_missing         0\n",
              "attackVector_missing         0\n",
              "dtype: int64"
            ]
          },
          "execution_count": 10,
          "metadata": {},
          "output_type": "execute_result"
        }
      ],
      "source": [
        "df.isnull().sum()"
      ]
    },
    {
      "cell_type": "code",
      "execution_count": 11,
      "metadata": {
        "colab": {
          "base_uri": "https://localhost:8080/"
        },
        "id": "0qFKVXYMvkap",
        "outputId": "af1149e9-b427-4f46-d66d-eb2bfd22c296"
      },
      "outputs": [
        {
          "name": "stdout",
          "output_type": "stream",
          "text": [
            "Feature matrix shape: (50771, 161)\n",
            "Label vector shape: (50771,)\n"
          ]
        }
      ],
      "source": [
        "import numpy as np\n",
        "from gensim.models import FastText\n",
        "from sklearn.feature_extraction.text import TfidfVectorizer\n",
        "from sklearn.decomposition import TruncatedSVD\n",
        "from sklearn.preprocessing import OneHotEncoder\n",
        "from nltk.tokenize import word_tokenize\n",
        "\n",
        "# Tokenize description\n",
        "df['tokens'] = df['description'].apply(word_tokenize)\n",
        "sentences = df['tokens'].tolist()\n",
        "\n",
        "# Train FastText model\n",
        "ft_model = FastText(sentences, vector_size=100, window=5, min_count=2, workers=4, epochs=10)\n",
        "\n",
        "# Vectorize using FastText\n",
        "def description_to_vec(tokens, model):\n",
        "    vectors = [model.wv[word] for word in tokens if word in model.wv]\n",
        "    return np.mean(vectors, axis=0) if vectors else np.zeros(model.vector_size)\n",
        "\n",
        "fasttext_vectors = np.vstack(df['tokens'].apply(lambda x: description_to_vec(x, ft_model)))\n",
        "\n",
        "# TF-IDF + SVD\n",
        "tfidf_vectorizer = TfidfVectorizer(max_features=1000, stop_words='english')\n",
        "tfidf_matrix = tfidf_vectorizer.fit_transform(df['description'])\n",
        "\n",
        "svd = TruncatedSVD(n_components=50, random_state=42)\n",
        "tfidf_reduced = svd.fit_transform(tfidf_matrix)\n",
        "\n",
        "# One-hot encode categorical features\n",
        "encoder = OneHotEncoder(handle_unknown='ignore', sparse_output=False)\n",
        "cat_encoded = encoder.fit_transform(df[cat_cols])\n",
        "\n",
        "# Get numeric and missing columns\n",
        "miss_cols = [col for col in df.columns if col.endswith('_missing')]\n",
        "# num_data = df[num_cols + miss_cols].values\n",
        "\n",
        "# Combine all feature sets\n",
        "X = np.hstack([fasttext_vectors, tfidf_reduced, cat_encoded])\n",
        "y = df['label'].values\n",
        "\n",
        "# Final shapes\n",
        "print(\"Feature matrix shape:\", X.shape)\n",
        "print(\"Label vector shape:\", y.shape)"
      ]
    },
    {
      "cell_type": "code",
      "execution_count": 12,
      "metadata": {
        "colab": {
          "base_uri": "https://localhost:8080/",
          "height": 1000
        },
        "id": "Hp0sFowsw6nW",
        "outputId": "13444bda-b2c2-4444-be10-9cc3f7d1230b"
      },
      "outputs": [
        {
          "name": "stdout",
          "output_type": "stream",
          "text": [
            "\n",
            "Principal Components (transformed data):\n",
            "[[ 0.17505525 -0.01733431 -0.0706341  ...  0.01477331  0.0221185\n",
            "   0.01859111]\n",
            " [ 0.31184845 -0.3013233   0.34030199 ... -0.00790084 -0.02715502\n",
            "   0.03827705]\n",
            " [ 0.07308911 -0.04942985  0.00873806 ... -0.01418853 -0.04473348\n",
            "  -0.02479685]\n",
            " ...\n",
            " [ 0.07374103 -0.1006829  -0.11228765 ... -0.02304501  0.01707446\n",
            "  -0.11551002]\n",
            " [ 0.35169785  0.04294254 -0.17792385 ...  0.12109092 -0.01126077\n",
            "  -0.00398221]\n",
            " [ 0.18843437 -0.11858849 -0.07632907 ...  0.04341171 -0.01512231\n",
            "   0.02909148]]\n",
            "\n",
            "Explained Variance Ratio by each component:\n",
            "[0.02939693 0.03022951 0.02645677 0.0196045  0.01614988 0.01447279\n",
            " 0.01222105 0.01083166 0.00996551 0.00919417 0.00870463 0.00827569\n",
            " 0.00806951 0.00780605 0.00771913 0.00731331 0.00707543 0.00681282\n",
            " 0.00647571 0.00634569 0.00586591 0.00571566 0.00552805 0.00539137\n",
            " 0.00526715 0.0051909  0.00490274 0.00475855 0.00465058 0.00461092\n",
            " 0.00454001 0.00437651 0.00422119 0.00408403 0.00404849 0.00394925\n",
            " 0.00389675 0.00385402 0.00371786 0.00367101 0.00359509 0.00348632\n",
            " 0.00342869 0.00334508 0.00326619 0.00323667 0.00320454 0.00313256\n",
            " 0.00307667 0.00303426]\n",
            "\n",
            "Total explained variance by the selected components:\n",
            "0.37816779218885727\n"
          ]
        },
        {
          "data": {
            "image/png": "[encoded data removed]",
            "text/plain": [
              "<Figure size 800x500 with 1 Axes>"
            ]
          },
          "metadata": {},
          "output_type": "display_data"
        }
      ],
      "source": [
        "# prompt: write code can PCA through SVD\n",
        "\n",
        "# The code already uses TruncatedSVD which is a form of SVD for dimensionality reduction.\n",
        "# You can access the components and variance explained like this:\n",
        "\n",
        "print(\"\\nPrincipal Components (transformed data):\")\n",
        "print(tfidf_reduced)\n",
        "\n",
        "print(\"\\nExplained Variance Ratio by each component:\")\n",
        "print(svd.explained_variance_ratio_)\n",
        "\n",
        "print(\"\\nTotal explained variance by the selected components:\")\n",
        "print(svd.explained_variance_ratio_.sum())\n",
        "\n",
        "# You can visualize the explained variance to help select the number of components\n",
        "plt.figure(figsize=(8, 5))\n",
        "plt.plot(range(1, svd.n_components + 1), np.cumsum(svd.explained_variance_ratio_))\n",
        "plt.xlabel('Number of Components')\n",
        "plt.ylabel('Cumulative Explained Variance')\n",
        "plt.title('Explained Variance by Number of SVD Components')\n",
        "plt.grid(True)\n",
        "plt.show()"
      ]
    },
    {
      "cell_type": "markdown",
      "metadata": {
        "id": "MYJwTgNDVnRy"
      },
      "source": [
        "# balance the data set"
      ]
    },
    {
      "cell_type": "markdown",
      "metadata": {
        "id": "qaiaDAkRVnRy"
      },
      "source": [
        "- split data after balance it"
      ]
    },
    {
      "cell_type": "code",
      "execution_count": 13,
      "metadata": {
        "id": "NBck6BnJO41Y"
      },
      "outputs": [],
      "source": [
        "# Split before applying SMOTE (important!)\n",
        "from sklearn.model_selection import train_test_split\n",
        "X_train, X_test, y_train, y_test = train_test_split(X, y, stratify=y, test_size=0.3, random_state=42)"
      ]
    },
    {
      "cell_type": "markdown",
      "metadata": {
        "id": "pnEsillTVnRy"
      },
      "source": [
        "- using over sampling technique"
      ]
    },
    {
      "cell_type": "markdown",
      "metadata": {
        "id": "LUEh3Fi7VnRz"
      },
      "source": [
        "# distribution of label after resampling"
      ]
    },
    {
      "cell_type": "markdown",
      "metadata": {
        "id": "_E0uhAYCVnR0"
      },
      "source": [
        "# Train the model"
      ]
    },
    {
      "cell_type": "markdown",
      "metadata": {
        "id": "iBH-tgDxVnR0"
      },
      "source": [
        "- cal. the class wights"
      ]
    },
    {
      "cell_type": "code",
      "execution_count": 15,
      "metadata": {
        "colab": {
          "base_uri": "https://localhost:8080/"
        },
        "id": "caSyIWylVnR0",
        "outputId": "eff92461-51ed-4e57-9a38-e3467fcc7b8e"
      },
      "outputs": [
        {
          "data": {
            "text/plain": [
              "{0: 0.9979501291699427, 1: 1.0020583093667175}"
            ]
          },
          "execution_count": 15,
          "metadata": {},
          "output_type": "execute_result"
        }
      ],
      "source": [
        "from sklearn.utils import class_weight\n",
        "import numpy as np\n",
        "\n",
        "class_weights = class_weight.compute_class_weight(class_weight=\"balanced\", classes=np.unique(y_train), y=y_train)\n",
        "class_weights = {i: w for i, w in zip(np.unique(y_train), class_weights)}\n",
        "class_weights"
      ]
    },
    {
      "cell_type": "code",
      "execution_count": null,
      "metadata": {
        "colab": {
          "base_uri": "https://localhost:8080/"
        },
        "id": "d9GFUI5I8pli",
        "outputId": "9023590b-7a04-4df0-c374-c5bbdb52420a"
      },
      "outputs": [
        {
          "name": "stderr",
          "output_type": "stream",
          "text": [
            "/usr/local/lib/python3.11/dist-packages/keras/src/layers/core/dense.py:87: UserWarning: Do not pass an `input_shape`/`input_dim` argument to a layer. When using Sequential models, prefer using an `Input(shape)` object as the first layer in the model instead.\n",
            "  super().__init__(activity_regularizer=activity_regularizer, **kwargs)\n"
          ]
        },
        {
          "name": "stdout",
          "output_type": "stream",
          "text": [
            "Epoch 1/40\n",
            "\u001b[1m4436/4436\u001b[0m \u001b[32m━━━━━━━━━━━━━━━━━━━━\u001b[0m\u001b[37m\u001b[0m \u001b[1m31s\u001b[0m 5ms/step - accuracy: 0.7196 - loss: 0.0404 - precision_2: 0.6657 - recall_2: 0.8675 - val_accuracy: 0.7778 - val_loss: 0.0185 - val_precision_2: 0.7143 - val_recall_2: 0.9259 - learning_rate: 5.0000e-04\n",
            "Epoch 2/40\n",
            "\u001b[1m4436/4436\u001b[0m \u001b[32m━━━━━━━━━━━━━━━━━━━━\u001b[0m\u001b[37m\u001b[0m \u001b[1m16s\u001b[0m 4ms/step - accuracy: 0.7656 - loss: 0.0210 - precision_2: 0.6989 - recall_2: 0.9312 - val_accuracy: 0.7778 - val_loss: 0.0165 - val_precision_2: 0.7143 - val_recall_2: 0.9259 - learning_rate: 5.0000e-04\n",
            "Epoch 3/40\n",
            "\u001b[1m4436/4436\u001b[0m \u001b[32m━━━━━━━━━━━━━━━━━━━━\u001b[0m\u001b[37m\u001b[0m \u001b[1m16s\u001b[0m 4ms/step - accuracy: 0.7767 - loss: 0.0202 - precision_2: 0.7116 - recall_2: 0.9246 - val_accuracy: 0.7222 - val_loss: 0.0178 - val_precision_2: 0.6579 - val_recall_2: 0.9259 - learning_rate: 5.0000e-04\n",
            "Epoch 4/40\n",
            "\u001b[1m4436/4436\u001b[0m \u001b[32m━━━━━━━━━━━━━━━━━━━━\u001b[0m\u001b[37m\u001b[0m \u001b[1m20s\u001b[0m 4ms/step - accuracy: 0.7934 - loss: 0.0190 - precision_2: 0.7285 - recall_2: 0.9360 - val_accuracy: 0.8333 - val_loss: 0.0160 - val_precision_2: 0.7647 - val_recall_2: 0.9630 - learning_rate: 5.0000e-04\n",
            "Epoch 5/40\n",
            "\u001b[1m4436/4436\u001b[0m \u001b[32m━━━━━━━━━━━━━━━━━━━━\u001b[0m\u001b[37m\u001b[0m \u001b[1m20s\u001b[0m 4ms/step - accuracy: 0.7998 - loss: 0.0190 - precision_2: 0.7370 - recall_2: 0.9295 - val_accuracy: 0.7963 - val_loss: 0.0158 - val_precision_2: 0.7222 - val_recall_2: 0.9630 - learning_rate: 5.0000e-04\n",
            "Epoch 6/40\n",
            "\u001b[1m4436/4436\u001b[0m \u001b[32m━━━━━━━━━━━━━━━━━━━━\u001b[0m\u001b[37m\u001b[0m \u001b[1m16s\u001b[0m 4ms/step - accuracy: 0.7997 - loss: 0.0181 - precision_2: 0.7328 - recall_2: 0.9384 - val_accuracy: 0.9074 - val_loss: 0.0155 - val_precision_2: 0.8929 - val_recall_2: 0.9259 - learning_rate: 5.0000e-04\n",
            "Epoch 7/40\n",
            "\u001b[1m4436/4436\u001b[0m \u001b[32m━━━━━━━━━━━━━━━━━━━━\u001b[0m\u001b[37m\u001b[0m \u001b[1m21s\u001b[0m 4ms/step - accuracy: 0.8109 - loss: 0.0179 - precision_2: 0.7474 - recall_2: 0.9332 - val_accuracy: 0.7778 - val_loss: 0.0153 - val_precision_2: 0.7027 - val_recall_2: 0.9630 - learning_rate: 5.0000e-04\n",
            "Epoch 8/40\n",
            "\u001b[1m4436/4436\u001b[0m \u001b[32m━━━━━━━━━━━━━━━━━━━━\u001b[0m\u001b[37m\u001b[0m \u001b[1m16s\u001b[0m 4ms/step - accuracy: 0.8124 - loss: 0.0178 - precision_2: 0.7501 - recall_2: 0.9360 - val_accuracy: 0.8148 - val_loss: 0.0155 - val_precision_2: 0.7429 - val_recall_2: 0.9630 - learning_rate: 5.0000e-04\n",
            "Epoch 9/40\n",
            "\u001b[1m4436/4436\u001b[0m \u001b[32m━━━━━━━━━━━━━━━━━━━━\u001b[0m\u001b[37m\u001b[0m \u001b[1m20s\u001b[0m 4ms/step - accuracy: 0.8174 - loss: 0.0173 - precision_2: 0.7527 - recall_2: 0.9440 - val_accuracy: 0.8148 - val_loss: 0.0137 - val_precision_2: 0.7429 - val_recall_2: 0.9630 - learning_rate: 5.0000e-04\n",
            "Epoch 10/40\n",
            "\u001b[1m4436/4436\u001b[0m \u001b[32m━━━━━━━━━━━━━━━━━━━━\u001b[0m\u001b[37m\u001b[0m \u001b[1m16s\u001b[0m 4ms/step - accuracy: 0.8210 - loss: 0.0170 - precision_2: 0.7556 - recall_2: 0.9468 - val_accuracy: 0.8148 - val_loss: 0.0151 - val_precision_2: 0.7429 - val_recall_2: 0.9630 - learning_rate: 5.0000e-04\n",
            "Epoch 11/40\n",
            "\u001b[1m4436/4436\u001b[0m \u001b[32m━━━━━━━━━━━━━━━━━━━━\u001b[0m\u001b[37m\u001b[0m \u001b[1m16s\u001b[0m 4ms/step - accuracy: 0.8246 - loss: 0.0169 - precision_2: 0.7599 - recall_2: 0.9445 - val_accuracy: 0.8519 - val_loss: 0.0149 - val_precision_2: 0.7879 - val_recall_2: 0.9630 - learning_rate: 5.0000e-04\n",
            "Epoch 12/40\n",
            "\u001b[1m4436/4436\u001b[0m \u001b[32m━━━━━━━━━━━━━━━━━━━━\u001b[0m\u001b[37m\u001b[0m \u001b[1m21s\u001b[0m 4ms/step - accuracy: 0.8201 - loss: 0.0171 - precision_2: 0.7551 - recall_2: 0.9442 - val_accuracy: 0.9074 - val_loss: 0.0143 - val_precision_2: 0.8667 - val_recall_2: 0.9630 - learning_rate: 5.0000e-04\n",
            "Epoch 13/40\n",
            "\u001b[1m4436/4436\u001b[0m \u001b[32m━━━━━━━━━━━━━━━━━━━━\u001b[0m\u001b[37m\u001b[0m \u001b[1m17s\u001b[0m 4ms/step - accuracy: 0.8357 - loss: 0.0165 - precision_2: 0.7734 - recall_2: 0.9439 - val_accuracy: 0.8889 - val_loss: 0.0146 - val_precision_2: 0.8387 - val_recall_2: 0.9630 - learning_rate: 1.0000e-04\n",
            "Epoch 14/40\n",
            "\u001b[1m4436/4436\u001b[0m \u001b[32m━━━━━━━━━━━━━━━━━━━━\u001b[0m\u001b[37m\u001b[0m \u001b[1m21s\u001b[0m 4ms/step - accuracy: 0.8370 - loss: 0.0159 - precision_2: 0.7742 - recall_2: 0.9487 - val_accuracy: 0.8333 - val_loss: 0.0158 - val_precision_2: 0.7812 - val_recall_2: 0.9259 - learning_rate: 1.0000e-04\n",
            "Epoch 15/40\n",
            "\u001b[1m4436/4436\u001b[0m \u001b[32m━━━━━━━━━━━━━━━━━━━━\u001b[0m\u001b[37m\u001b[0m \u001b[1m16s\u001b[0m 4ms/step - accuracy: 0.8384 - loss: 0.0160 - precision_2: 0.7748 - recall_2: 0.9527 - val_accuracy: 0.8519 - val_loss: 0.0156 - val_precision_2: 0.8065 - val_recall_2: 0.9259 - learning_rate: 1.0000e-04\n",
            "Epoch 16/40\n",
            "\u001b[1m4436/4436\u001b[0m \u001b[32m━━━━━━━━━━━━━━━━━━━━\u001b[0m\u001b[37m\u001b[0m \u001b[1m16s\u001b[0m 4ms/step - accuracy: 0.8327 - loss: 0.0162 - precision_2: 0.7670 - recall_2: 0.9509 - val_accuracy: 0.8519 - val_loss: 0.0150 - val_precision_2: 0.8065 - val_recall_2: 0.9259 - learning_rate: 2.0000e-05\n",
            "Epoch 17/40\n",
            "\u001b[1m4436/4436\u001b[0m \u001b[32m━━━━━━━━━━━━━━━━━━━━\u001b[0m\u001b[37m\u001b[0m \u001b[1m31s\u001b[0m 6ms/step - accuracy: 0.8395 - loss: 0.0159 - precision_2: 0.7779 - recall_2: 0.9468 - val_accuracy: 0.8333 - val_loss: 0.0150 - val_precision_2: 0.7812 - val_recall_2: 0.9259 - learning_rate: 2.0000e-05\n",
            "Epoch 18/40\n",
            "\u001b[1m4436/4436\u001b[0m \u001b[32m━━━━━━━━━━━━━━━━━━━━\u001b[0m\u001b[37m\u001b[0m \u001b[1m26s\u001b[0m 6ms/step - accuracy: 0.8451 - loss: 0.0156 - precision_2: 0.7840 - recall_2: 0.9498 - val_accuracy: 0.8519 - val_loss: 0.0148 - val_precision_2: 0.8065 - val_recall_2: 0.9259 - learning_rate: 2.0000e-05\n",
            "Epoch 19/40\n",
            "\u001b[1m4436/4436\u001b[0m \u001b[32m━━━━━━━━━━━━━━━━━━━━\u001b[0m\u001b[37m\u001b[0m \u001b[1m30s\u001b[0m 4ms/step - accuracy: 0.8435 - loss: 0.0153 - precision_2: 0.7822 - recall_2: 0.9542 - val_accuracy: 0.8333 - val_loss: 0.0149 - val_precision_2: 0.7812 - val_recall_2: 0.9259 - learning_rate: 4.0000e-06\n",
            "Epoch 20/40\n",
            "\u001b[1m4436/4436\u001b[0m \u001b[32m━━━━━━━━━━━━━━━━━━━━\u001b[0m\u001b[37m\u001b[0m \u001b[1m16s\u001b[0m 4ms/step - accuracy: 0.8441 - loss: 0.0155 - precision_2: 0.7849 - recall_2: 0.9520 - val_accuracy: 0.8704 - val_loss: 0.0151 - val_precision_2: 0.8333 - val_recall_2: 0.9259 - learning_rate: 4.0000e-06\n",
            "Epoch 21/40\n",
            "\u001b[1m4436/4436\u001b[0m \u001b[32m━━━━━━━━━━━━━━━━━━━━\u001b[0m\u001b[37m\u001b[0m \u001b[1m17s\u001b[0m 4ms/step - accuracy: 0.8402 - loss: 0.0155 - precision_2: 0.7780 - recall_2: 0.9507 - val_accuracy: 0.8519 - val_loss: 0.0149 - val_precision_2: 0.8065 - val_recall_2: 0.9259 - learning_rate: 4.0000e-06\n",
            "Epoch 22/40\n",
            "\u001b[1m4436/4436\u001b[0m \u001b[32m━━━━━━━━━━━━━━━━━━━━\u001b[0m\u001b[37m\u001b[0m \u001b[1m20s\u001b[0m 4ms/step - accuracy: 0.8433 - loss: 0.0154 - precision_2: 0.7831 - recall_2: 0.9489 - val_accuracy: 0.8704 - val_loss: 0.0149 - val_precision_2: 0.8333 - val_recall_2: 0.9259 - learning_rate: 1.0000e-06\n",
            "Epoch 23/40\n",
            "\u001b[1m4436/4436\u001b[0m \u001b[32m━━━━━━━━━━━━━━━━━━━━\u001b[0m\u001b[37m\u001b[0m \u001b[1m16s\u001b[0m 4ms/step - accuracy: 0.8404 - loss: 0.0154 - precision_2: 0.7779 - recall_2: 0.9493 - val_accuracy: 0.8704 - val_loss: 0.0151 - val_precision_2: 0.8333 - val_recall_2: 0.9259 - learning_rate: 1.0000e-06\n",
            "Epoch 24/40\n",
            "\u001b[1m4436/4436\u001b[0m \u001b[32m━━━━━━━━━━━━━━━━━━━━\u001b[0m\u001b[37m\u001b[0m \u001b[1m16s\u001b[0m 4ms/step - accuracy: 0.8419 - loss: 0.0157 - precision_2: 0.7789 - recall_2: 0.9525 - val_accuracy: 0.8704 - val_loss: 0.0153 - val_precision_2: 0.8333 - val_recall_2: 0.9259 - learning_rate: 1.0000e-06\n",
            "Epoch 25/40\n",
            "\u001b[1m4436/4436\u001b[0m \u001b[32m━━━━━━━━━━━━━━━━━━━━\u001b[0m\u001b[37m\u001b[0m \u001b[1m20s\u001b[0m 4ms/step - accuracy: 0.8385 - loss: 0.0161 - precision_2: 0.7788 - recall_2: 0.9480 - val_accuracy: 0.8704 - val_loss: 0.0151 - val_precision_2: 0.8333 - val_recall_2: 0.9259 - learning_rate: 1.0000e-06\n",
            "Epoch 26/40\n",
            "\u001b[1m4436/4436\u001b[0m \u001b[32m━━━━━━━━━━━━━━━━━━━━\u001b[0m\u001b[37m\u001b[0m \u001b[1m21s\u001b[0m 4ms/step - accuracy: 0.8379 - loss: 0.0160 - precision_2: 0.7763 - recall_2: 0.9499 - val_accuracy: 0.8333 - val_loss: 0.0149 - val_precision_2: 0.7812 - val_recall_2: 0.9259 - learning_rate: 1.0000e-06\n",
            "Epoch 27/40\n",
            "\u001b[1m4436/4436\u001b[0m \u001b[32m━━━━━━━━━━━━━━━━━━━━\u001b[0m\u001b[37m\u001b[0m \u001b[1m17s\u001b[0m 4ms/step - accuracy: 0.8406 - loss: 0.0158 - precision_2: 0.7794 - recall_2: 0.9474 - val_accuracy: 0.8704 - val_loss: 0.0151 - val_precision_2: 0.8333 - val_recall_2: 0.9259 - learning_rate: 1.0000e-06\n",
            "Epoch 28/40\n",
            "\u001b[1m4436/4436\u001b[0m \u001b[32m━━━━━━━━━━━━━━━━━━━━\u001b[0m\u001b[37m\u001b[0m \u001b[1m23s\u001b[0m 4ms/step - accuracy: 0.8401 - loss: 0.0156 - precision_2: 0.7774 - recall_2: 0.9500 - val_accuracy: 0.8704 - val_loss: 0.0149 - val_precision_2: 0.8333 - val_recall_2: 0.9259 - learning_rate: 1.0000e-06\n",
            "Epoch 29/40\n",
            "\u001b[1m4436/4436\u001b[0m \u001b[32m━━━━━━━━━━━━━━━━━━━━\u001b[0m\u001b[37m\u001b[0m \u001b[1m17s\u001b[0m 4ms/step - accuracy: 0.8430 - loss: 0.0153 - precision_2: 0.7784 - recall_2: 0.9551 - val_accuracy: 0.8704 - val_loss: 0.0150 - val_precision_2: 0.8333 - val_recall_2: 0.9259 - learning_rate: 1.0000e-06\n",
            "Epoch 30/40\n",
            "\u001b[1m4436/4436\u001b[0m \u001b[32m━━━━━━━━━━━━━━━━━━━━\u001b[0m\u001b[37m\u001b[0m \u001b[1m17s\u001b[0m 4ms/step - accuracy: 0.8449 - loss: 0.0157 - precision_2: 0.7849 - recall_2: 0.9483 - val_accuracy: 0.8704 - val_loss: 0.0149 - val_precision_2: 0.8333 - val_recall_2: 0.9259 - learning_rate: 1.0000e-06\n",
            "Epoch 31/40\n",
            "\u001b[1m4436/4436\u001b[0m \u001b[32m━━━━━━━━━━━━━━━━━━━━\u001b[0m\u001b[37m\u001b[0m \u001b[1m20s\u001b[0m 4ms/step - accuracy: 0.8435 - loss: 0.0158 - precision_2: 0.7842 - recall_2: 0.9496 - val_accuracy: 0.8519 - val_loss: 0.0150 - val_precision_2: 0.8065 - val_recall_2: 0.9259 - learning_rate: 1.0000e-06\n",
            "Epoch 32/40\n",
            "\u001b[1m4436/4436\u001b[0m \u001b[32m━━━━━━━━━━━━━━━━━━━━\u001b[0m\u001b[37m\u001b[0m \u001b[1m16s\u001b[0m 4ms/step - accuracy: 0.8453 - loss: 0.0153 - precision_2: 0.7872 - recall_2: 0.9495 - val_accuracy: 0.8519 - val_loss: 0.0150 - val_precision_2: 0.8065 - val_recall_2: 0.9259 - learning_rate: 1.0000e-06\n",
            "Epoch 33/40\n",
            "\u001b[1m4436/4436\u001b[0m \u001b[32m━━━━━━━━━━━━━━━━━━━━\u001b[0m\u001b[37m\u001b[0m \u001b[1m21s\u001b[0m 4ms/step - accuracy: 0.8376 - loss: 0.0158 - precision_2: 0.7740 - recall_2: 0.9504 - val_accuracy: 0.8704 - val_loss: 0.0150 - val_precision_2: 0.8333 - val_recall_2: 0.9259 - learning_rate: 1.0000e-06\n",
            "Epoch 34/40\n",
            "\u001b[1m4436/4436\u001b[0m \u001b[32m━━━━━━━━━━━━━━━━━━━━\u001b[0m\u001b[37m\u001b[0m \u001b[1m20s\u001b[0m 4ms/step - accuracy: 0.8423 - loss: 0.0156 - precision_2: 0.7816 - recall_2: 0.9486 - val_accuracy: 0.8704 - val_loss: 0.0150 - val_precision_2: 0.8333 - val_recall_2: 0.9259 - learning_rate: 1.0000e-06\n",
            "Epoch 35/40\n",
            "\u001b[1m4436/4436\u001b[0m \u001b[32m━━━━━━━━━━━━━━━━━━━━\u001b[0m\u001b[37m\u001b[0m \u001b[1m18s\u001b[0m 4ms/step - accuracy: 0.8422 - loss: 0.0155 - precision_2: 0.7782 - recall_2: 0.9515 - val_accuracy: 0.8704 - val_loss: 0.0149 - val_precision_2: 0.8333 - val_recall_2: 0.9259 - learning_rate: 1.0000e-06\n",
            "Epoch 36/40\n",
            "\u001b[1m4436/4436\u001b[0m \u001b[32m━━━━━━━━━━━━━━━━━━━━\u001b[0m\u001b[37m\u001b[0m \u001b[1m20s\u001b[0m 4ms/step - accuracy: 0.8422 - loss: 0.0152 - precision_2: 0.7797 - recall_2: 0.9516 - val_accuracy: 0.8333 - val_loss: 0.0150 - val_precision_2: 0.7812 - val_recall_2: 0.9259 - learning_rate: 1.0000e-06\n",
            "Epoch 37/40\n",
            "\u001b[1m4436/4436\u001b[0m \u001b[32m━━━━━━━━━━━━━━━━━━━━\u001b[0m\u001b[37m\u001b[0m \u001b[1m21s\u001b[0m 4ms/step - accuracy: 0.8445 - loss: 0.0153 - precision_2: 0.7857 - recall_2: 0.9492 - val_accuracy: 0.8704 - val_loss: 0.0151 - val_precision_2: 0.8333 - val_recall_2: 0.9259 - learning_rate: 1.0000e-06\n",
            "Epoch 38/40\n",
            "\u001b[1m4436/4436\u001b[0m \u001b[32m━━━━━━━━━━━━━━━━━━━━\u001b[0m\u001b[37m\u001b[0m \u001b[1m20s\u001b[0m 4ms/step - accuracy: 0.8395 - loss: 0.0158 - precision_2: 0.7784 - recall_2: 0.9485 - val_accuracy: 0.8704 - val_loss: 0.0150 - val_precision_2: 0.8333 - val_recall_2: 0.9259 - learning_rate: 1.0000e-06\n",
            "Epoch 39/40\n",
            "\u001b[1m4436/4436\u001b[0m \u001b[32m━━━━━━━━━━━━━━━━━━━━\u001b[0m\u001b[37m\u001b[0m \u001b[1m21s\u001b[0m 4ms/step - accuracy: 0.8388 - loss: 0.0156 - precision_2: 0.7764 - recall_2: 0.9500 - val_accuracy: 0.8704 - val_loss: 0.0150 - val_precision_2: 0.8333 - val_recall_2: 0.9259 - learning_rate: 1.0000e-06\n",
            "Epoch 40/40\n",
            "\u001b[1m4436/4436\u001b[0m \u001b[32m━━━━━━━━━━━━━━━━━━━━\u001b[0m\u001b[37m\u001b[0m \u001b[1m20s\u001b[0m 4ms/step - accuracy: 0.8382 - loss: 0.0156 - precision_2: 0.7747 - recall_2: 0.9507 - val_accuracy: 0.8333 - val_loss: 0.0147 - val_precision_2: 0.7812 - val_recall_2: 0.9259 - learning_rate: 1.0000e-06\n",
            "\u001b[1m476/476\u001b[0m \u001b[32m━━━━━━━━━━━━━━━━━━━━\u001b[0m\u001b[37m\u001b[0m \u001b[1m2s\u001b[0m 2ms/step\n",
            "Accuracy: 0.90\n",
            "Precision: 0.94\n",
            "Recall: 0.86\n",
            "F1 Score: 0.90\n",
            "ROC-AUC Score: 0.96\n"
          ]
        }
      ],
      "source": [
        "import tensorflow as tf # Import tensorflow\n",
        "from tensorflow.keras import layers, models # Import layers and models\n",
        "from tensorflow.keras import backend as K # Import Keras backend\n",
        "from tensorflow.keras.callbacks import EarlyStopping, ReduceLROnPlateau # Import EarlyStopping and ReduceLROnPlateau\n",
        "from sklearn.metrics import accuracy_score, precision_score, recall_score, f1_score, roc_auc_score\n",
        "from sklearn.metrics import confusion_matrix, ConfusionMatrixDisplay\n",
        "\n",
        "# Calculate class weights\n",
        "# n_samples = len(df)\n",
        "# n_positive = sum(df['label'])\n",
        "# pos_weight = (n_samples / (2 * n_positive))\n",
        "# class_weights = {0: 1.0, 1: pos_weight}\n",
        "\n",
        "\n",
        "def focal_loss(gamma=2.8, alpha=0.80):  # Increased gamma and alpha for more focus on positive class\n",
        "    def focal_loss_fixed(y_true, y_pred):\n",
        "        epsilon = K.epsilon()\n",
        "        y_pred = K.clip(y_pred, epsilon, 1. - epsilon)\n",
        "        cross_entropy = -y_true * K.log(y_pred) - (1 - y_true) * K.log(1 - y_pred)\n",
        "        weight = alpha * K.pow(1 - y_pred, gamma) * y_true + (1 - alpha) * K.pow(y_pred, gamma) * (1 - y_true)\n",
        "        return K.mean(weight * cross_entropy)\n",
        "    return focal_loss_fixed\n",
        "\n",
        "def build_model(input_shape):\n",
        "    model = models.Sequential([\n",
        "        layers.Dense(512, activation='softmax', input_shape=input_shape),\n",
        "        layers.BatchNormalization(),\n",
        "        layers.Dropout(0.3),\n",
        "\n",
        "        layers.Dense(256, activation='swish'),\n",
        "        layers.BatchNormalization(),\n",
        "        layers.Dropout(0.3),\n",
        "\n",
        "        layers.Dense(128, activation='swish'),\n",
        "        layers.BatchNormalization(),\n",
        "        layers.Dropout(0.2),\n",
        "\n",
        "        layers.Dense(64, activation='swish'),\n",
        "        layers.BatchNormalization(),\n",
        "        layers.Dropout(0.2),\n",
        "\n",
        "        layers.Dense(32, activation='swish'),\n",
        "        layers.BatchNormalization(),\n",
        "        layers.Dropout(0.1),\n",
        "        layers.Dense(16, activation='swish'),\n",
        "        layers.BatchNormalization(),\n",
        "\n",
        "        layers.Dense(1, activation='sigmoid')\n",
        "    ])\n",
        "\n",
        "    model.compile(\n",
        "        optimizer=tf.keras.optimizers.Adam(learning_rate=0.0005),  # Reduced learning rate\n",
        "        loss='Binary Crossentropy',\n",
        "        metrics=['accuracy', tf.keras.metrics.Precision(), tf.keras.metrics.Recall()]\n",
        "    )\n",
        "\n",
        "    return model\n",
        "\n",
        "# Callbacks\n",
        "early_stopping = EarlyStopping(\n",
        "    monitor='val_loss',\n",
        "    patience=5,\n",
        "    restore_best_weights=True\n",
        ")\n",
        "\n",
        "reduce_lr = ReduceLROnPlateau(\n",
        "    monitor='val_loss',\n",
        "    factor=0.2,\n",
        "    patience=3,\n",
        "    min_lr=1e-6\n",
        ")\n",
        "\n",
        "# Train model\n",
        "# Update class weights to focus more on minority class\n",
        "#class_weights = {0: 1.0, 1: 4.0}  # Increased weight for positive class\n",
        "\n",
        "model = build_model((X_train.shape[1],))\n",
        "history = model.fit(\n",
        "    X_train, y_train,\n",
        "    epochs=80,  # Increased epochs\n",
        "    batch_size=8,  # Reduced batch size\n",
        "    validation_split=0.0015,  # Reduced validation split\n",
        "    class_weight=class_weights,\n",
        "    callbacks=reduce_lr,\n",
        "    shuffle=True\n",
        ")\n",
        "\n",
        "# Evaluate\n",
        "y_pred = model.predict(X_test)\n",
        "y_pred_binary = (y_pred > 0.6).astype(int)\n",
        "\n",
        "from sklearn.metrics import accuracy_score, precision_score, recall_score, f1_score, roc_auc_score\n",
        "\n",
        "print(f\"Accuracy: {accuracy_score(y_test, y_pred_binary):.2f}\")\n",
        "print(f\"Precision: {precision_score(y_test, y_pred_binary):.2f}\")\n",
        "print(f\"Recall: {recall_score(y_test, y_pred_binary):.2f}\")\n",
        "print(f\"F1 Score: {f1_score(y_test, y_pred_binary):.2f}\")\n",
        "print(f\"ROC-AUC Score: {roc_auc_score(y_test, y_pred):.2f}\")"
      ]
    },
    {
      "cell_type": "code",
      "execution_count": 20,
      "metadata": {
        "colab": {
          "base_uri": "https://localhost:8080/"
        },
        "id": "ITr2Lqk0mp_d",
        "outputId": "369f23c7-0858-46ca-be9d-5117203f5111"
      },
      "outputs": [
        {
          "name": "stdout",
          "output_type": "stream",
          "text": [
            "Accuracy: 0.90\n",
            "Precision: 0.94\n",
            "Recall: 0.86\n",
            "F1 Score: 0.90\n",
            "ROC-AUC Score: 0.96\n"
          ]
        }
      ],
      "source": [
        "print(f\"Accuracy: {accuracy_score(y_test, y_pred_binary):.2f}\")\n",
        "print(f\"Precision: {precision_score(y_test, y_pred_binary):.2f}\")\n",
        "print(f\"Recall: {recall_score(y_test, y_pred_binary):.2f}\")\n",
        "print(f\"F1 Score: {f1_score(y_test, y_pred_binary):.2f}\")\n",
        "print(f\"ROC-AUC Score: {roc_auc_score(y_test, y_pred):.2f}\")"
      ]
    },
    {
      "cell_type": "markdown",
      "metadata": {
        "id": "SOHN2kMiVnR1"
      },
      "source": [
        "# Plot confusion matrix"
      ]
    },
    {
      "cell_type": "code",
      "execution_count": 21,
      "metadata": {
        "colab": {
          "base_uri": "https://localhost:8080/",
          "height": 490
        },
        "id": "0gB0Y004vKGJ",
        "outputId": "c1f6e7d1-b2a2-431d-e60c-081c002f7d81"
      },
      "outputs": [
        {
          "data": {
            "text/plain": [
              "<Figure size 600x600 with 0 Axes>"
            ]
          },
          "metadata": {},
          "output_type": "display_data"
        },
        {
          "data": {
            "image/png": "[encoded data removed]",
            "text/plain": [
              "<Figure size 640x480 with 2 Axes>"
            ]
          },
          "metadata": {},
          "output_type": "display_data"
        }
      ],
      "source": [
        "from sklearn.metrics import confusion_matrix, ConfusionMatrixDisplay # Import confusion_matrix and ConfusionMatrixDisplay\n",
        "import matplotlib.pyplot as plt # Import pyplot\n",
        "\n",
        "cm = confusion_matrix(y_test, y_pred_binary)  # Use y_pred_binary (binary labels) instead of y_pred (probabilities)\n",
        "disp = ConfusionMatrixDisplay(confusion_matrix=cm, display_labels=[\"Not Exploited\", \"Exploited\"])\n",
        "plt.figure(figsize=(6, 6))\n",
        "disp.plot(cmap='Blues', values_format='d')\n",
        "plt.title(\"Confusion Matrix\")\n",
        "plt.grid(False)\n",
        "plt.show()"
      ]
    },
    {
      "cell_type": "markdown",
      "metadata": {
        "id": "_IINU0dSVnR8"
      },
      "source": [
        "* loss and accuracy curve"
      ]
    },
    {
      "cell_type": "code",
      "execution_count": 22,
      "metadata": {
        "colab": {
          "base_uri": "https://localhost:8080/",
          "height": 907
        },
        "id": "IUqsTkWRzlMs",
        "outputId": "d271ad9b-b2f0-464a-fa91-7de7f5728d77"
      },
      "outputs": [
        {
          "data": {
            "image/png": "[encoded data removed]",
            "text/plain": [
              "<Figure size 640x480 with 1 Axes>"
            ]
          },
          "metadata": {},
          "output_type": "display_data"
        },
        {
          "data": {
            "image/png": "[encoded data removed]",
            "text/plain": [
              "<Figure size 640x480 with 1 Axes>"
            ]
          },
          "metadata": {},
          "output_type": "display_data"
        }
      ],
      "source": [
        "import matplotlib.pyplot as plt\n",
        "\n",
        "plt.plot(history.history['loss'], label='Training Loss')\n",
        "plt.plot(history.history['val_loss'], label='Validation Loss')\n",
        "plt.legend()\n",
        "plt.title(\"Loss Curve\")\n",
        "plt.xlabel(\"Epoch\")\n",
        "plt.ylabel(\"Loss\")\n",
        "plt.show()\n",
        "\n",
        "plt.plot(history.history['accuracy'], label='Training Accuracy')\n",
        "plt.plot(history.history['val_accuracy'], label='Validation Accuracy')\n",
        "plt.legend()\n",
        "plt.title(\"Accuracy Curve\")\n",
        "plt.show()"
      ]
    },
    {
      "cell_type": "code",
      "execution_count": 19,
      "metadata": {
        "colab": {
          "base_uri": "https://localhost:8080/"
        },
        "id": "MHnqP5B3XkTY",
        "outputId": "f3c49e06-2c91-48a1-c54c-7d4ecfc07314"
      },
      "outputs": [
        {
          "name": "stderr",
          "output_type": "stream",
          "text": [
            "WARNING:absl:You are saving your model as an HDF5 file via `model.save()` or `keras.saving.save_model(model)`. This file format is considered legacy. We recommend using instead the native Keras format, e.g. `model.save('my_model.keras')` or `keras.saving.save_model(model, 'my_model.keras')`. \n"
          ]
        }
      ],
      "source": [
        "model.save('/content/drive/MyDrive/FL/modelalldatafanal.h5')"
      ]
    }
  ],
  "metadata": {
    "accelerator": "GPU",
    "colab": {
      "gpuType": "T4",
      "provenance": []
    },
    "kernelspec": {
      "display_name": "Python 3",
      "name": "python3"
    },
    "language_info": {
      "codemirror_mode": {
        "name": "ipython",
        "version": 3
      },
      "file_extension": ".py",
      "mimetype": "text/x-python",
      "name": "python",
      "nbconvert_exporter": "python",
      "pygments_lexer": "ipython3",
      "version": "3.11.4"
    }
  },
  "nbformat": 4,
  "nbformat_minor": 0
}
