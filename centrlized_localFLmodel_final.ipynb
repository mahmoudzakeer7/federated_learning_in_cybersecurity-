{
  "cells": [
    {
      "cell_type": "code",
      "execution_count": 1,
      "metadata": {
        "colab": {
          "base_uri": "https://localhost:8080/",
          "height": 1000
        },
        "id": "XDEs2St-wID8",
        "outputId": "8fdea7bf-f352-4d50-d152-c153d4aca229"
      },
      "outputs": [
        {
          "name": "stdout",
          "output_type": "stream",
          "text": [
            "Requirement already satisfied: pip in /usr/local/lib/python3.11/dist-packages (24.1.2)\n",
            "Collecting pip\n",
            "  Downloading pip-25.1.1-py3-none-any.whl.metadata (3.6 kB)\n",
            "Downloading pip-25.1.1-py3-none-any.whl (1.8 MB)\n",
            "\u001b[2K   \u001b[90m━━━━━━━━━━━━━━━━━━━━━━━━━━━━━━━━━━━━━━━━\u001b[0m \u001b[32m1.8/1.8 MB\u001b[0m \u001b[31m13.1 MB/s\u001b[0m eta \u001b[36m0:00:00\u001b[0m\n",
            "\u001b[?25hInstalling collected packages: pip\n",
            "  Attempting uninstall: pip\n",
            "    Found existing installation: pip 24.1.2\n",
            "    Uninstalling pip-24.1.2:\n",
            "      Successfully uninstalled pip-24.1.2\n",
            "Successfully installed pip-25.1.1\n",
            "Collecting numpy==1.26.4\n",
            "  Downloading numpy-1.26.4-cp311-cp311-manylinux_2_17_x86_64.manylinux2014_x86_64.whl.metadata (61 kB)\n",
            "Downloading numpy-1.26.4-cp311-cp311-manylinux_2_17_x86_64.manylinux2014_x86_64.whl (18.3 MB)\n",
            "\u001b[2K   \u001b[90m━━━━━━━━━━━━━━━━━━━━━━━━━━━━━━━━━━━━━━━━\u001b[0m \u001b[32m18.3/18.3 MB\u001b[0m \u001b[31m43.3 MB/s\u001b[0m eta \u001b[36m0:00:00\u001b[0m\n",
            "\u001b[?25hInstalling collected packages: numpy\n",
            "  Attempting uninstall: numpy\n",
            "    Found existing installation: numpy 2.0.2\n",
            "    Uninstalling numpy-2.0.2:\n",
            "      Successfully uninstalled numpy-2.0.2\n",
            "\u001b[31mERROR: pip's dependency resolver does not currently take into account all the packages that are installed. This behaviour is the source of the following dependency conflicts.\n",
            "thinc 8.3.6 requires numpy<3.0.0,>=2.0.0, but you have numpy 1.26.4 which is incompatible.\u001b[0m\u001b[31m\n",
            "\u001b[0mSuccessfully installed numpy-1.26.4\n"
          ]
        },
        {
          "data": {
            "application/vnd.colab-display-data+json": {
              "id": "1191c935ad0d480ca3cc07557c2d9a3f",
              "pip_warning": {
                "packages": [
                  "numpy"
                ]
              }
            }
          },
          "metadata": {},
          "output_type": "display_data"
        },
        {
          "name": "stdout",
          "output_type": "stream",
          "text": [
            "Collecting gensim\n",
            "  Downloading gensim-4.3.3-cp311-cp311-manylinux_2_17_x86_64.manylinux2014_x86_64.whl.metadata (8.1 kB)\n",
            "Collecting numpy<2.0,>=1.18.5 (from gensim)\n",
            "  Using cached numpy-1.26.4-cp311-cp311-manylinux_2_17_x86_64.manylinux2014_x86_64.whl.metadata (61 kB)\n",
            "Collecting scipy<1.14.0,>=1.7.0 (from gensim)\n",
            "  Downloading scipy-1.13.1-cp311-cp311-manylinux_2_17_x86_64.manylinux2014_x86_64.whl.metadata (60 kB)\n",
            "Collecting smart-open>=1.8.1 (from gensim)\n",
            "  Downloading smart_open-7.1.0-py3-none-any.whl.metadata (24 kB)\n",
            "Collecting wrapt (from smart-open>=1.8.1->gensim)\n",
            "  Downloading wrapt-1.17.2-cp311-cp311-manylinux_2_5_x86_64.manylinux1_x86_64.manylinux_2_17_x86_64.manylinux2014_x86_64.whl.metadata (6.4 kB)\n",
            "Downloading gensim-4.3.3-cp311-cp311-manylinux_2_17_x86_64.manylinux2014_x86_64.whl (26.7 MB)\n",
            "\u001b[2K   \u001b[90m━━━━━━━━━━━━━━━━━━━━━━━━━━━━━━━━━━━━━━━━\u001b[0m \u001b[32m26.7/26.7 MB\u001b[0m \u001b[31m82.5 MB/s\u001b[0m eta \u001b[36m0:00:00\u001b[0m\n",
            "\u001b[?25hUsing cached numpy-1.26.4-cp311-cp311-manylinux_2_17_x86_64.manylinux2014_x86_64.whl (18.3 MB)\n",
            "Downloading scipy-1.13.1-cp311-cp311-manylinux_2_17_x86_64.manylinux2014_x86_64.whl (38.6 MB)\n",
            "\u001b[2K   \u001b[90m━━━━━━━━━━━━━━━━━━━━━━━━━━━━━━━━━━━━━━━━\u001b[0m \u001b[32m38.6/38.6 MB\u001b[0m \u001b[31m34.1 MB/s\u001b[0m eta \u001b[36m0:00:00\u001b[0m\n",
            "\u001b[?25hDownloading smart_open-7.1.0-py3-none-any.whl (61 kB)\n",
            "Downloading wrapt-1.17.2-cp311-cp311-manylinux_2_5_x86_64.manylinux1_x86_64.manylinux_2_17_x86_64.manylinux2014_x86_64.whl (83 kB)\n",
            "Installing collected packages: wrapt, numpy, smart-open, scipy, gensim\n",
            "\u001b[2K  Attempting uninstall: wrapt\n",
            "\u001b[2K    Found existing installation: wrapt 1.17.2\n",
            "\u001b[2K    Uninstalling wrapt-1.17.2:\n",
            "\u001b[2K      Successfully uninstalled wrapt-1.17.2\n",
            "\u001b[2K  Attempting uninstall: numpy\n",
            "\u001b[2K    Found existing installation: numpy 1.26.4\n",
            "\u001b[2K    Uninstalling numpy-1.26.4:\n",
            "\u001b[2K      Successfully uninstalled numpy-1.26.4\n",
            "\u001b[2K  Attempting uninstall: smart-open\n",
            "\u001b[2K    Found existing installation: smart-open 7.1.0\n",
            "\u001b[2K    Uninstalling smart-open-7.1.0:\n",
            "\u001b[2K      Successfully uninstalled smart-open-7.1.0\n",
            "\u001b[2K  Attempting uninstall: scipy\n",
            "\u001b[2K    Found existing installation: scipy 1.15.3\n",
            "\u001b[2K    Uninstalling scipy-1.15.3:\n",
            "\u001b[2K      Successfully uninstalled scipy-1.15.3\n",
            "\u001b[2K   \u001b[90m━━━━━━━━━━━━━━━━━━━━━━━━━━━━━━━━━━━━━━━━\u001b[0m \u001b[32m5/5\u001b[0m [gensim]\n",
            "\u001b[1A\u001b[2K\u001b[31mERROR: pip's dependency resolver does not currently take into account all the packages that are installed. This behaviour is the source of the following dependency conflicts.\n",
            "thinc 8.3.6 requires numpy<3.0.0,>=2.0.0, but you have numpy 1.26.4 which is incompatible.\n",
            "tsfresh 0.21.0 requires scipy>=1.14.0; python_version >= \"3.10\", but you have scipy 1.13.1 which is incompatible.\u001b[0m\u001b[31m\n",
            "\u001b[0mSuccessfully installed gensim-4.3.3 numpy-1.26.4 scipy-1.13.1 smart-open-7.1.0 wrapt-1.17.2\n"
          ]
        },
        {
          "data": {
            "application/vnd.colab-display-data+json": {
              "id": "985204599d2f4565a5d359f11401bced",
              "pip_warning": {
                "packages": [
                  "numpy"
                ]
              }
            }
          },
          "metadata": {},
          "output_type": "display_data"
        },
        {
          "name": "stdout",
          "output_type": "stream",
          "text": [
            "Collecting tensorflow==2.18.1\n",
            "  Downloading tensorflow-2.18.1-cp311-cp311-manylinux_2_17_x86_64.manylinux2014_x86_64.whl.metadata (4.1 kB)\n",
            "Requirement already satisfied: absl-py>=1.0.0 in /usr/local/lib/python3.11/dist-packages (from tensorflow==2.18.1) (1.4.0)\n",
            "Requirement already satisfied: astunparse>=1.6.0 in /usr/local/lib/python3.11/dist-packages (from tensorflow==2.18.1) (1.6.3)\n",
            "Requirement already satisfied: flatbuffers>=24.3.25 in /usr/local/lib/python3.11/dist-packages (from tensorflow==2.18.1) (25.2.10)\n",
            "Requirement already satisfied: gast!=0.5.0,!=0.5.1,!=0.5.2,>=0.2.1 in /usr/local/lib/python3.11/dist-packages (from tensorflow==2.18.1) (0.6.0)\n",
            "Requirement already satisfied: google-pasta>=0.1.1 in /usr/local/lib/python3.11/dist-packages (from tensorflow==2.18.1) (0.2.0)\n",
            "Requirement already satisfied: libclang>=13.0.0 in /usr/local/lib/python3.11/dist-packages (from tensorflow==2.18.1) (18.1.1)\n",
            "Requirement already satisfied: opt-einsum>=2.3.2 in /usr/local/lib/python3.11/dist-packages (from tensorflow==2.18.1) (3.4.0)\n",
            "Requirement already satisfied: packaging in /usr/local/lib/python3.11/dist-packages (from tensorflow==2.18.1) (24.2)\n",
            "Requirement already satisfied: protobuf!=4.21.0,!=4.21.1,!=4.21.2,!=4.21.3,!=4.21.4,!=4.21.5,<6.0.0dev,>=3.20.3 in /usr/local/lib/python3.11/dist-packages (from tensorflow==2.18.1) (5.29.5)\n",
            "Requirement already satisfied: requests<3,>=2.21.0 in /usr/local/lib/python3.11/dist-packages (from tensorflow==2.18.1) (2.32.3)\n",
            "Requirement already satisfied: setuptools in /usr/local/lib/python3.11/dist-packages (from tensorflow==2.18.1) (75.2.0)\n",
            "Requirement already satisfied: six>=1.12.0 in /usr/local/lib/python3.11/dist-packages (from tensorflow==2.18.1) (1.17.0)\n",
            "Requirement already satisfied: termcolor>=1.1.0 in /usr/local/lib/python3.11/dist-packages (from tensorflow==2.18.1) (3.1.0)\n",
            "Requirement already satisfied: typing-extensions>=3.6.6 in /usr/local/lib/python3.11/dist-packages (from tensorflow==2.18.1) (4.14.0)\n",
            "Requirement already satisfied: wrapt>=1.11.0 in /usr/local/lib/python3.11/dist-packages (from tensorflow==2.18.1) (1.17.2)\n",
            "Requirement already satisfied: grpcio<2.0,>=1.24.3 in /usr/local/lib/python3.11/dist-packages (from tensorflow==2.18.1) (1.73.0)\n",
            "Requirement already satisfied: tensorboard<2.19,>=2.18 in /usr/local/lib/python3.11/dist-packages (from tensorflow==2.18.1) (2.18.0)\n",
            "Requirement already satisfied: keras>=3.5.0 in /usr/local/lib/python3.11/dist-packages (from tensorflow==2.18.1) (3.8.0)\n",
            "Requirement already satisfied: numpy<2.1.0,>=1.26.0 in /usr/local/lib/python3.11/dist-packages (from tensorflow==2.18.1) (1.26.4)\n",
            "Requirement already satisfied: h5py>=3.11.0 in /usr/local/lib/python3.11/dist-packages (from tensorflow==2.18.1) (3.14.0)\n",
            "Requirement already satisfied: ml-dtypes<1.0.0,>=0.4.0 in /usr/local/lib/python3.11/dist-packages (from tensorflow==2.18.1) (0.4.1)\n",
            "Requirement already satisfied: tensorflow-io-gcs-filesystem>=0.23.1 in /usr/local/lib/python3.11/dist-packages (from tensorflow==2.18.1) (0.37.1)\n",
            "Requirement already satisfied: charset-normalizer<4,>=2 in /usr/local/lib/python3.11/dist-packages (from requests<3,>=2.21.0->tensorflow==2.18.1) (3.4.2)\n",
            "Requirement already satisfied: idna<4,>=2.5 in /usr/local/lib/python3.11/dist-packages (from requests<3,>=2.21.0->tensorflow==2.18.1) (3.10)\n",
            "Requirement already satisfied: urllib3<3,>=1.21.1 in /usr/local/lib/python3.11/dist-packages (from requests<3,>=2.21.0->tensorflow==2.18.1) (2.4.0)\n",
            "Requirement already satisfied: certifi>=2017.4.17 in /usr/local/lib/python3.11/dist-packages (from requests<3,>=2.21.0->tensorflow==2.18.1) (2025.6.15)\n",
            "Requirement already satisfied: markdown>=2.6.8 in /usr/local/lib/python3.11/dist-packages (from tensorboard<2.19,>=2.18->tensorflow==2.18.1) (3.8)\n",
            "Requirement already satisfied: tensorboard-data-server<0.8.0,>=0.7.0 in /usr/local/lib/python3.11/dist-packages (from tensorboard<2.19,>=2.18->tensorflow==2.18.1) (0.7.2)\n",
            "Requirement already satisfied: werkzeug>=1.0.1 in /usr/local/lib/python3.11/dist-packages (from tensorboard<2.19,>=2.18->tensorflow==2.18.1) (3.1.3)\n",
            "Requirement already satisfied: wheel<1.0,>=0.23.0 in /usr/local/lib/python3.11/dist-packages (from astunparse>=1.6.0->tensorflow==2.18.1) (0.45.1)\n",
            "Requirement already satisfied: rich in /usr/local/lib/python3.11/dist-packages (from keras>=3.5.0->tensorflow==2.18.1) (13.9.4)\n",
            "Requirement already satisfied: namex in /usr/local/lib/python3.11/dist-packages (from keras>=3.5.0->tensorflow==2.18.1) (0.1.0)\n",
            "Requirement already satisfied: optree in /usr/local/lib/python3.11/dist-packages (from keras>=3.5.0->tensorflow==2.18.1) (0.16.0)\n",
            "Requirement already satisfied: MarkupSafe>=2.1.1 in /usr/local/lib/python3.11/dist-packages (from werkzeug>=1.0.1->tensorboard<2.19,>=2.18->tensorflow==2.18.1) (3.0.2)\n",
            "Requirement already satisfied: markdown-it-py>=2.2.0 in /usr/local/lib/python3.11/dist-packages (from rich->keras>=3.5.0->tensorflow==2.18.1) (3.0.0)\n",
            "Requirement already satisfied: pygments<3.0.0,>=2.13.0 in /usr/local/lib/python3.11/dist-packages (from rich->keras>=3.5.0->tensorflow==2.18.1) (2.19.1)\n",
            "Requirement already satisfied: mdurl~=0.1 in /usr/local/lib/python3.11/dist-packages (from markdown-it-py>=2.2.0->rich->keras>=3.5.0->tensorflow==2.18.1) (0.1.2)\n",
            "Downloading tensorflow-2.18.1-cp311-cp311-manylinux_2_17_x86_64.manylinux2014_x86_64.whl (615.5 MB)\n",
            "\u001b[2K   \u001b[90m━━━━━━━━━━━━━━━━━━━━━━━━━━━━━━━━━━━━━━━━\u001b[0m \u001b[32m615.5/615.5 MB\u001b[0m \u001b[31m35.8 MB/s\u001b[0m eta \u001b[36m0:00:00\u001b[0m\n",
            "\u001b[?25hInstalling collected packages: tensorflow\n",
            "  Attempting uninstall: tensorflow\n",
            "    Found existing installation: tensorflow 2.18.0\n",
            "    Uninstalling tensorflow-2.18.0:\n",
            "      Successfully uninstalled tensorflow-2.18.0\n",
            "\u001b[31mERROR: pip's dependency resolver does not currently take into account all the packages that are installed. This behaviour is the source of the following dependency conflicts.\n",
            "tensorflow-decision-forests 1.11.0 requires tensorflow==2.18.0, but you have tensorflow 2.18.1 which is incompatible.\u001b[0m\u001b[31m\n",
            "\u001b[0mSuccessfully installed tensorflow-2.18.1\n"
          ]
        }
      ],
      "source": [
        "#Install them before running the code\n",
        "!pip install --upgrade pip\n",
        "# !pip --upgrade install setuptools\n",
        "!pip install numpy==1.26.4\n",
        "!pip install --force-reinstall gensim\n",
        "!pip install tensorflow==2.18.1\n",
        "#Restart the session"
      ]
    },
    {
      "cell_type": "code",
      "execution_count": 34,
      "metadata": {
        "colab": {
          "base_uri": "https://localhost:8080/"
        },
        "id": "KXFy5VQ8t-wP",
        "outputId": "1cb68e44-b4b1-4d9f-dba7-0c4986be48f4"
      },
      "outputs": [
        {
          "name": "stderr",
          "output_type": "stream",
          "text": [
            "[nltk_data] Downloading package punkt_tab to /root/nltk_data...\n",
            "[nltk_data]   Package punkt_tab is already up-to-date!\n"
          ]
        },
        {
          "data": {
            "text/plain": [
              "True"
            ]
          },
          "execution_count": 34,
          "metadata": {},
          "output_type": "execute_result"
        }
      ],
      "source": [
        "import numpy as np\n",
        "import pandas as pd\n",
        "import matplotlib.pyplot as plt\n",
        "import nltk\n",
        "from nltk.tokenize import word_tokenize\n",
        "nltk.download('punkt_tab')\n"
      ]
    },
    {
      "cell_type": "code",
      "execution_count": 35,
      "metadata": {
        "colab": {
          "base_uri": "https://localhost:8080/"
        },
        "id": "7ssFP5hiu-uK",
        "outputId": "406355aa-6991-4e25-8fd6-368d78c54855"
      },
      "outputs": [
        {
          "name": "stdout",
          "output_type": "stream",
          "text": [
            "Drive already mounted at /content/drive; to attempt to forcibly remount, call drive.mount(\"/content/drive\", force_remount=True).\n"
          ]
        }
      ],
      "source": [
        "# Load your data (update path as needed)\n",
        "from google.colab import drive\n",
        "drive.mount('/content/drive')\n",
        "df = pd.read_csv('/content/drive/MyDrive/Dataset/Dataset/cleaned_balanced_50/Balanced_dataset.csv')\n"
      ]
    },
    {
      "cell_type": "code",
      "execution_count": 36,
      "metadata": {
        "colab": {
          "base_uri": "https://localhost:8080/"
        },
        "id": "1yuV_kR1M2rx",
        "outputId": "b8729388-7843-4838-8513-8aec3007f86f"
      },
      "outputs": [
        {
          "data": {
            "text/plain": [
              "(50922, 15)"
            ]
          },
          "execution_count": 36,
          "metadata": {},
          "output_type": "execute_result"
        }
      ],
      "source": [
        "df.shape"
      ]
    },
    {
      "cell_type": "code",
      "execution_count": 37,
      "metadata": {
        "colab": {
          "base_uri": "https://localhost:8080/"
        },
        "id": "slgRNsgyHC1l",
        "outputId": "d31fabea-bed1-49a8-dbc9-082b7d83d081"
      },
      "outputs": [
        {
          "data": {
            "text/plain": [
              "Index(['id', 'sourceIdentifier', 'published', 'lastModified', 'vulnStatus',\n",
              "       'description', 'baseSeverity', 'baseScore', 'attackVector',\n",
              "       'confidentialityImpact', 'integrityImpact', 'availabilityImpact',\n",
              "       'exploitabilityScore', 'impactScore', 'label'],\n",
              "      dtype='object')"
            ]
          },
          "execution_count": 37,
          "metadata": {},
          "output_type": "execute_result"
        }
      ],
      "source": [
        "df.columns"
      ]
    },
    {
      "cell_type": "code",
      "execution_count": 38,
      "metadata": {
        "colab": {
          "base_uri": "https://localhost:8080/"
        },
        "id": "2mXhT7MevRdu",
        "outputId": "23476388-3fdd-40b7-f6bb-c09649f20923"
      },
      "outputs": [
        {
          "name": "stdout",
          "output_type": "stream",
          "text": [
            "DataFrame shape: (50922, 15)\n",
            "id                        object\n",
            "sourceIdentifier          object\n",
            "published                 object\n",
            "lastModified              object\n",
            "vulnStatus                object\n",
            "description               object\n",
            "baseSeverity              object\n",
            "baseScore                float64\n",
            "attackVector              object\n",
            "confidentialityImpact     object\n",
            "integrityImpact           object\n",
            "availabilityImpact        object\n",
            "exploitabilityScore      float64\n",
            "impactScore              float64\n",
            "label                      int64\n",
            "dtype: object\n",
            "          baseScore  exploitabilityScore   impactScore         label\n",
            "count  31443.000000         31443.000000  31443.000000  50922.000000\n",
            "mean       7.123519             2.650116      4.319356      0.500000\n",
            "std        1.719826             0.951637      1.547574      0.500005\n",
            "min        0.000000             0.100000      0.000000      0.000000\n",
            "25%        5.700000             1.800000      3.400000      0.000000\n",
            "50%        7.500000             2.800000      3.700000      0.500000\n",
            "75%        8.600000             3.900000      5.900000      1.000000\n",
            "max       10.000000             3.900000      6.000000      1.000000\n",
            "Missing values per column:\n",
            "id                           0\n",
            "sourceIdentifier             0\n",
            "published                    0\n",
            "lastModified                 0\n",
            "vulnStatus                   0\n",
            "description                  0\n",
            "baseSeverity             19479\n",
            "baseScore                19479\n",
            "attackVector             19479\n",
            "confidentialityImpact    19479\n",
            "integrityImpact          19479\n",
            "availabilityImpact       19479\n",
            "exploitabilityScore      19479\n",
            "impactScore              19479\n",
            "label                        0\n",
            "dtype: int64\n"
          ]
        }
      ],
      "source": [
        "# Basic Data Exploration and Preprocessing\n",
        "print(f\"DataFrame shape: {df.shape}\")\n",
        "print(df.dtypes)\n",
        "print(df.describe())\n",
        "print(\"Missing values per column:\")\n",
        "print(df.isnull().sum())\n"
      ]
    },
    {
      "cell_type": "code",
      "execution_count": 39,
      "metadata": {
        "colab": {
          "base_uri": "https://localhost:8080/"
        },
        "id": "hgFWgntUM_aU",
        "outputId": "c7dc6746-ef12-40f4-fdae-39f2bfb2bf7f"
      },
      "outputs": [
        {
          "data": {
            "text/plain": [
              "0"
            ]
          },
          "execution_count": 39,
          "metadata": {},
          "output_type": "execute_result"
        }
      ],
      "source": [
        "df['label'].isnull().sum()"
      ]
    },
    {
      "cell_type": "code",
      "execution_count": null,
      "metadata": {
        "colab": {
          "base_uri": "https://localhost:8080/"
        },
        "id": "qAmxFuelvTsP",
        "outputId": "6f4b81ca-fcc1-40b5-ea45-34c184d322e0"
      },
      "outputs": [
        {
          "name": "stdout",
          "output_type": "stream",
          "text": [
            "Label distribution (exploited = 1):\n",
            "label\n",
            "1    0.5\n",
            "0    0.5\n",
            "Name: proportion, dtype: float64\n"
          ]
        }
      ],
      "source": [
        "# Label distribution and correlation (if needed)\n",
        "print(\"Label distribution (exploited = 1):\")\n",
        "print(df['label'].value_counts(normalize=True))"
      ]
    },
    {
      "cell_type": "code",
      "execution_count": 41,
      "metadata": {
        "colab": {
          "base_uri": "https://localhost:8080/",
          "height": 700
        },
        "id": "r5IZa8iiNozv",
        "outputId": "a31104b9-6324-4f8c-822c-444341604158"
      },
      "outputs": [
        {
          "name": "stderr",
          "output_type": "stream",
          "text": [
            "/tmp/ipython-input-41-883251108.py:14: FutureWarning: \n",
            "\n",
            "Passing `palette` without assigning `hue` is deprecated and will be removed in v0.14.0. Assign the `x` variable to `hue` and set `legend=False` for the same effect.\n",
            "\n",
            "  ax = sns.barplot(x='label', y='percentage', data=label_dist, palette='viridis')\n"
          ]
        },
        {
          "data": {
            "image/png": "[encoded data removed]",
            "text/plain": [
              "<Figure size 800x600 with 1 Axes>"
            ]
          },
          "metadata": {},
          "output_type": "display_data"
        }
      ],
      "source": [
        "import seaborn as sns\n",
        "import matplotlib.pyplot as plt\n",
        "\n",
        "# Calculate normalized percentages and format\n",
        "label_dist = (df['label'].value_counts(normalize=True)\n",
        "                          .sort_index()\n",
        "                          .mul(100)\n",
        "                          .round(2)\n",
        "                          .rename_axis('label')\n",
        "                          .reset_index(name='percentage'))\n",
        "\n",
        "# Create bar plot\n",
        "plt.figure(figsize=(8, 6))\n",
        "ax = sns.barplot(x='label', y='percentage', data=label_dist, palette='viridis')\n",
        "\n",
        "# Add title and labels\n",
        "plt.title('Label Distribution (Exploited = 1)', fontsize=14, pad=20)\n",
        "plt.xlabel('Label', fontsize=12)\n",
        "plt.ylabel('Percentage (%)', fontsize=12)\n",
        "plt.ylim(0, 100)  # Ensure full percentage range\n",
        "\n",
        "# Annotate bars with percentages\n",
        "for p in ax.patches:\n",
        "    ax.annotate(f'{p.get_height()}%',\n",
        "                (p.get_x() + p.get_width() / 2., p.get_height()),\n",
        "                ha='center', va='center',\n",
        "                xytext=(0, 10),\n",
        "                textcoords='offset points',\n",
        "                fontsize=12)\n",
        "\n",
        "plt.show()"
      ]
    },
    {
      "cell_type": "code",
      "execution_count": 42,
      "metadata": {
        "colab": {
          "base_uri": "https://localhost:8080/",
          "height": 541
        },
        "id": "DR5NDDZjPMuN",
        "outputId": "cc866f41-0e7e-4845-b1a4-c0df8f2b5a08"
      },
      "outputs": [
        {
          "data": {
            "image/png": "[encoded data removed]",
            "text/plain": [
              "<Figure size 1000x600 with 1 Axes>"
            ]
          },
          "metadata": {},
          "output_type": "display_data"
        }
      ],
      "source": [
        "import matplotlib.pyplot as plt\n",
        "import seaborn as sns\n",
        "\n",
        "plt.figure(figsize=(10, 6))\n",
        "sns.violinplot(\n",
        "    x='label',\n",
        "    y='exploitabilityScore',\n",
        "    hue='label',\n",
        "    data=df,\n",
        "    palette={0: 'blue', 1: 'red'},\n",
        "    legend=False\n",
        ")\n",
        "plt.title('Exploitability Score Distribution by Class', fontsize=14, pad=15)\n",
        "plt.xlabel('Class', fontsize=12)\n",
        "plt.ylabel('Exploitability Score', fontsize=12)\n",
        "plt.xticks([0, 1], ['Non-Exploited (0)', 'Exploited (1)'])\n",
        "\n",
        "# Add class distribution annotation\n",
        "class_dist = df['label'].value_counts(normalize=True).sort_index()\n",
        "plt.text(0.95, 0.95,\n",
        "         f\"Class Distribution:\\n0: {class_dist[0]*100:.1f}%\\n1: {class_dist[1]*100:.1f}%\",\n",
        "         transform=plt.gca().transAxes,\n",
        "         ha='right', va='top',\n",
        "         bbox=dict(facecolor='white', alpha=0.8))\n",
        "plt.show()"
      ]
    },
    {
      "cell_type": "code",
      "execution_count": 43,
      "metadata": {
        "colab": {
          "base_uri": "https://localhost:8080/",
          "height": 522
        },
        "id": "7s0ms9_fdpM2",
        "outputId": "31d91843-6d1b-4fc0-9a65-19932f4c7c80"
      },
      "outputs": [
        {
          "data": {
            "image/png": "[encoded data removed]",
            "text/plain": [
              "<Figure size 1000x600 with 1 Axes>"
            ]
          },
          "metadata": {},
          "output_type": "display_data"
        }
      ],
      "source": [
        "import seaborn as sns\n",
        "import matplotlib.pyplot as plt\n",
        "\n",
        "plt.figure(figsize=(10, 6))\n",
        "sns.boxplot(data=df, x='label', y='baseScore')  # Or sns.violinplot(...)\n",
        "plt.title('Base Score Distribution by Exploitation Status')\n",
        "plt.xlabel('Exploitation Status (0: Non-Exploited, 1: Exploited)')\n",
        "plt.ylabel('Base Score')\n",
        "plt.show()"
      ]
    },
    {
      "cell_type": "code",
      "execution_count": 44,
      "metadata": {
        "id": "dCob7kovvVUD"
      },
      "outputs": [],
      "source": [
        "# Data Cleaning: Filter out unwanted descriptions and drop less useful columns\n",
        "df = df[~df['description'].str.lower().str.contains('do not use|rejected|withdrawn')]\n",
        "df = df.drop(columns=['sourceIdentifier', 'published', 'lastModified'])\n",
        "df['description'] = df['description'].str.lower().str.strip()"
      ]
    },
    {
      "cell_type": "code",
      "execution_count": 45,
      "metadata": {
        "id": "0QTWXJtxvX56"
      },
      "outputs": [],
      "source": [
        "# Handle missing CVSS data without dropping records\n",
        "cat_cols = [\n",
        "    'baseSeverity', 'attackVector'\n",
        "]\n",
        "for col in cat_cols:\n",
        "    df[col] = df[col].fillna('UNKNOWN')\n",
        "\n",
        "num_cols = []\n",
        "for col in num_cols:\n",
        "    df[col] = df[col].fillna(-1)"
      ]
    },
    {
      "cell_type": "code",
      "execution_count": 46,
      "metadata": {
        "id": "SQT-NErkvZjC"
      },
      "outputs": [],
      "source": [
        "# Add missing value flags\n",
        "for col in num_cols + cat_cols:\n",
        "    df[f\"{col}_missing\"] = df[col].apply(lambda x: 1 if x == -1 or x == 'UNKNOWN' else 0)"
      ]
    },
    {
      "cell_type": "code",
      "execution_count": 47,
      "metadata": {
        "colab": {
          "base_uri": "https://localhost:8080/",
          "height": 523
        },
        "id": "ykpZTUpqIHSI",
        "outputId": "6f573bd4-8f83-43d9-c53c-40b33a66892e"
      },
      "outputs": [
        {
          "data": {
            "text/html": [
              "<div>\n",
              "<style scoped>\n",
              "    .dataframe tbody tr th:only-of-type {\n",
              "        vertical-align: middle;\n",
              "    }\n",
              "\n",
              "    .dataframe tbody tr th {\n",
              "        vertical-align: top;\n",
              "    }\n",
              "\n",
              "    .dataframe thead th {\n",
              "        text-align: right;\n",
              "    }\n",
              "</style>\n",
              "<table border=\"1\" class=\"dataframe\">\n",
              "  <thead>\n",
              "    <tr style=\"text-align: right;\">\n",
              "      <th></th>\n",
              "      <th>0</th>\n",
              "    </tr>\n",
              "  </thead>\n",
              "  <tbody>\n",
              "    <tr>\n",
              "      <th>id</th>\n",
              "      <td>0</td>\n",
              "    </tr>\n",
              "    <tr>\n",
              "      <th>vulnStatus</th>\n",
              "      <td>0</td>\n",
              "    </tr>\n",
              "    <tr>\n",
              "      <th>description</th>\n",
              "      <td>0</td>\n",
              "    </tr>\n",
              "    <tr>\n",
              "      <th>baseSeverity</th>\n",
              "      <td>0</td>\n",
              "    </tr>\n",
              "    <tr>\n",
              "      <th>baseScore</th>\n",
              "      <td>19353</td>\n",
              "    </tr>\n",
              "    <tr>\n",
              "      <th>attackVector</th>\n",
              "      <td>0</td>\n",
              "    </tr>\n",
              "    <tr>\n",
              "      <th>confidentialityImpact</th>\n",
              "      <td>19353</td>\n",
              "    </tr>\n",
              "    <tr>\n",
              "      <th>integrityImpact</th>\n",
              "      <td>19353</td>\n",
              "    </tr>\n",
              "    <tr>\n",
              "      <th>availabilityImpact</th>\n",
              "      <td>19353</td>\n",
              "    </tr>\n",
              "    <tr>\n",
              "      <th>exploitabilityScore</th>\n",
              "      <td>19353</td>\n",
              "    </tr>\n",
              "    <tr>\n",
              "      <th>impactScore</th>\n",
              "      <td>19353</td>\n",
              "    </tr>\n",
              "    <tr>\n",
              "      <th>label</th>\n",
              "      <td>0</td>\n",
              "    </tr>\n",
              "    <tr>\n",
              "      <th>baseSeverity_missing</th>\n",
              "      <td>0</td>\n",
              "    </tr>\n",
              "    <tr>\n",
              "      <th>attackVector_missing</th>\n",
              "      <td>0</td>\n",
              "    </tr>\n",
              "  </tbody>\n",
              "</table>\n",
              "</div><br><label><b>dtype:</b> int64</label>"
            ],
            "text/plain": [
              "id                           0\n",
              "vulnStatus                   0\n",
              "description                  0\n",
              "baseSeverity                 0\n",
              "baseScore                19353\n",
              "attackVector                 0\n",
              "confidentialityImpact    19353\n",
              "integrityImpact          19353\n",
              "availabilityImpact       19353\n",
              "exploitabilityScore      19353\n",
              "impactScore              19353\n",
              "label                        0\n",
              "baseSeverity_missing         0\n",
              "attackVector_missing         0\n",
              "dtype: int64"
            ]
          },
          "execution_count": 47,
          "metadata": {},
          "output_type": "execute_result"
        }
      ],
      "source": [
        "df.isnull().sum()"
      ]
    },
    {
      "cell_type": "code",
      "execution_count": 48,
      "metadata": {
        "id": "DPgpIbk4vegp"
      },
      "outputs": [],
      "source": [
        "# -----------------------------\n",
        "# Text Representations: FastText and TF-IDF\n",
        "# -----------------------------\n",
        "from gensim.models import FastText\n",
        "from sklearn.feature_extraction.text import TfidfVectorizer\n",
        "from sklearn.decomposition import TruncatedSVD\n",
        "from gensim.models import FastText\n",
        "\n",
        "# Prepare tokenized sentences for FastText\n",
        "sentences = df['description'].apply(lambda x: word_tokenize(x)).tolist()\n",
        "ft_model = FastText(sentences, vector_size=100, window=5, min_count=2, workers=4, epochs=10)\n",
        "\n",
        "def description_to_vec(tokens, model):\n",
        "    vectors = [model.wv[word] for word in tokens if word in model.wv]\n",
        "    if not vectors:\n",
        "        return np.zeros(model.vector_size)\n",
        "    return np.mean(vectors, axis=0)\n",
        "\n",
        "df['tokens'] = df['description'].apply(word_tokenize)\n",
        "fasttext_vectors = np.vstack(df['tokens'].apply(lambda x: description_to_vec(x, ft_model)).values)"
      ]
    },
    {
      "cell_type": "code",
      "execution_count": 49,
      "metadata": {
        "id": "nhXQ9SkpvheR"
      },
      "outputs": [],
      "source": [
        "# TF-IDF representation (using descriptions directly)\n",
        "from sklearn.feature_extraction.text import TfidfVectorizer\n",
        "from sklearn.decomposition import TruncatedSVD\n",
        "\n",
        "tfidf_vectorizer = TfidfVectorizer(max_features=1000, stop_words='english')\n",
        "tfidf_matrix = tfidf_vectorizer.fit_transform(df['description'])\n",
        "\n",
        "# Reduce dimensionality of TF-IDF features\n",
        "svd = TruncatedSVD(n_components=50, random_state=42)\n",
        "tfidf_reduced = svd.fit_transform(tfidf_matrix)"
      ]
    },
    {
      "cell_type": "code",
      "execution_count": null,
      "metadata": {
        "id": "XwV9h1nCS13L"
      },
      "outputs": [],
      "source": []
    },
    {
      "cell_type": "code",
      "execution_count": 50,
      "metadata": {
        "colab": {
          "base_uri": "https://localhost:8080/"
        },
        "id": "0qFKVXYMvkap",
        "outputId": "0efe8468-69b3-4f5a-b0e7-b71cc65bac7f"
      },
      "outputs": [
        {
          "name": "stdout",
          "output_type": "stream",
          "text": [
            "Feature matrix shape: (50771, 161)\n",
            "Label vector shape: (50771,)\n"
          ]
        }
      ],
      "source": [
        "# -----------------------------\n",
        "# Categorical and Numeric Features\n",
        "# -----------------------------\n",
        "from sklearn.preprocessing import OneHotEncoder\n",
        "\n",
        "encoder = OneHotEncoder(handle_unknown='ignore',sparse_output=False)\n",
        "cat_encoded = encoder.fit_transform(df[cat_cols])\n",
        "\n",
        "miss_cols = [col for col in df.columns if col.endswith('_missing')]\n",
        "num_data = df[num_cols + miss_cols].values\n",
        "\n",
        "# Concatenate all features: FastText (100-dim), TF-IDF reduced (50-dim), categorical, and numeric features.\n",
        "X = np.hstack([fasttext_vectors, tfidf_reduced, cat_encoded])\n",
        "y = df['label'].values\n",
        "\n",
        "print(\"Feature matrix shape:\", X.shape)\n",
        "print(\"Label vector shape:\", y.shape)\n"
      ]
    },
    {
      "cell_type": "code",
      "execution_count": 51,
      "metadata": {
        "id": "5xP4Enm4MOA4"
      },
      "outputs": [],
      "source": [
        "from sklearn.model_selection import train_test_split\n",
        "X_train, X_test, y_train, y_test = train_test_split(X, y, stratify=y, test_size=0.3, random_state=42)"
      ]
    },
    {
      "cell_type": "code",
      "execution_count": null,
      "metadata": {
        "colab": {
          "base_uri": "https://localhost:8080/"
        },
        "id": "I_p6iWsOOJpw",
        "outputId": "acdc097f-3719-43fe-a41b-2e93af2751bb"
      },
      "outputs": [
        {
          "name": "stdout",
          "output_type": "stream",
          "text": [
            "None\n"
          ]
        }
      ],
      "source": []
    },
    {
      "cell_type": "code",
      "execution_count": 19,
      "metadata": {
        "id": "NBck6BnJO41Y"
      },
      "outputs": [],
      "source": [
        "# from imblearn.over_sampling import SMOTE\n",
        "# from sklearn.model_selection import train_test_split\n",
        "# from collections import Counter\n",
        "\n",
        "\n",
        "# print(\"Before SMOTE:\", Counter(y))\n",
        "\n",
        "# # Split before applying SMOTE (important!)\n",
        "# X_train, X_test, y_train, y_test = train_test_split(X, y, stratify=y, test_size=0.3, random_state=42)\n",
        "\n",
        "# # Apply SMOTE only to training data\n",
        "# smote = SMOTE(random_state=42)\n",
        "# X_resampled, y_resampled = smote.fit_resample(X_train, y_train)\n",
        "\n",
        "# print(\"After SMOTE:\", Counter(y_resampled))\n"
      ]
    },
    {
      "cell_type": "code",
      "execution_count": 21,
      "metadata": {
        "id": "urfucM-SQgAQ"
      },
      "outputs": [],
      "source": [
        "# import seaborn as sns\n",
        "# import matplotlib.pyplot as plt\n",
        "\n",
        "# # Calculate normalized percentages and format\n",
        "# label_dist = (pd.Series(y_resampled).value_counts(normalize=True)\n",
        "#                           .sort_index()\n",
        "#                           .mul(100)\n",
        "#                           .round(2)\n",
        "#                           .rename_axis('label')\n",
        "#                           .reset_index(name='percentage'))\n",
        "\n",
        "# # Create bar plot\n",
        "# plt.figure(figsize=(8, 6))\n",
        "# ax = sns.barplot(x='label', y='percentage', data=label_dist, palette='viridis')\n",
        "\n",
        "# # Add title and labels\n",
        "# plt.title('Label Distribution (Exploited = 1)', fontsize=14, pad=20)\n",
        "# plt.xlabel('Label', fontsize=12)\n",
        "# plt.ylabel('Percentage (%)', fontsize=12)\n",
        "# plt.ylim(0, 100)  # Ensure full percentage range\n",
        "\n",
        "# # Annotate bars with percentages\n",
        "# for p in ax.patches:\n",
        "#     ax.annotate(f'{p.get_height()}%',\n",
        "#                 (p.get_x() + p.get_width() / 2., p.get_height()),\n",
        "#                 ha='center', va='center',\n",
        "#                 xytext=(0, 10),\n",
        "#                 textcoords='offset points',\n",
        "#                 fontsize=12)\n",
        "\n",
        "# plt.show()"
      ]
    },
    {
      "cell_type": "code",
      "execution_count": 59,
      "metadata": {
        "id": "zvJBY3j_vpEI"
      },
      "outputs": [],
      "source": [
        "# -----------------------------\n",
        "# Define Custom Focal Loss Function\n",
        "# -----------------------------\n",
        "# Step 4: Define Focal Loss\n",
        "from tensorflow.keras import backend as K\n",
        "def focal_loss(gamma=2.0, alpha=0.25):\n",
        "    def focal_loss_fixed(y_true, y_pred):\n",
        "        epsilon = K.epsilon()\n",
        "        y_pred = K.clip(y_pred, epsilon, 1. - epsilon)\n",
        "        cross_entropy = -y_true * K.log(y_pred) - (1 - y_true) * K.log(1 - y_pred)\n",
        "        weight = alpha * K.pow(1 - y_pred, gamma) * y_true + (1 - alpha) * K.pow(y_pred, gamma) * (1 - y_true)\n",
        "        loss = weight * cross_entropy\n",
        "        return K.mean(loss)\n",
        "    return focal_loss_fixed\n"
      ]
    },
    {
      "cell_type": "code",
      "execution_count": 60,
      "metadata": {
        "id": "1-WRDxrmvsjT"
      },
      "outputs": [],
      "source": [
        "#-----------------------------\n",
        "# Build the Model with Improved Architecture\n",
        "# -----------------------------\n",
        "# Step 5: Define the model architecture\n",
        "from tensorflow.keras.models import Sequential\n",
        "from tensorflow.keras.layers import Dense, BatchNormalization, Dropout\n",
        "import tensorflow as tf # Make sure tf is also imported\n",
        "\n",
        "def build_model(input_dim):\n",
        "    model = Sequential([\n",
        "        Dense(128, activation='swish', input_shape=(input_dim,)),\n",
        "        BatchNormalization(),\n",
        "        Dropout(0.3),\n",
        "        Dense(64, activation='swish'),\n",
        "        BatchNormalization(),\n",
        "        Dropout(0.3),\n",
        "        Dense(32, activation='swish'),\n",
        "        BatchNormalization(),\n",
        "        Dropout(0.2),\n",
        "        Dense(16, activation='swish'),\n",
        "        BatchNormalization(),\n",
        "        Dropout(0.1),\n",
        "        Dense(1, activation='sigmoid')\n",
        "    ])\n",
        "    model.compile(optimizer='adam',\n",
        "                  loss=focal_loss(gamma=2, alpha=0.25),\n",
        "                  metrics=['accuracy', tf.keras.metrics.AUC()])\n",
        "    return model"
      ]
    },
    {
      "cell_type": "code",
      "execution_count": 61,
      "metadata": {
        "id": "Vy11G1QNvx0a"
      },
      "outputs": [],
      "source": [
        "# -----------------------------\n",
        "# Set Up Callbacks for Training\n",
        "# -----------------------------\n",
        "from tensorflow.keras.callbacks import EarlyStopping, ReduceLROnPlateau\n",
        "\n",
        "early_stop = EarlyStopping(monitor='val_loss', patience=5, restore_best_weights=True)\n",
        "reduce_lr = ReduceLROnPlateau(monitor='val_loss', factor=0.5, patience=3, min_lr=1e-6, verbose=1)\n",
        "\n",
        "# Optional: Use class weights if still needed to handle imbalance\n",
        "class_weights = {0: 0.549, 1: 5.694}"
      ]
    },
    {
      "cell_type": "code",
      "execution_count": 62,
      "metadata": {
        "colab": {
          "base_uri": "https://localhost:8080/"
        },
        "id": "Ilb_Z2ZHvzzC",
        "outputId": "15731123-1f24-4dc0-e516-90fa767b723c"
      },
      "outputs": [
        {
          "name": "stdout",
          "output_type": "stream",
          "text": [
            "Epoch 1/30\n"
          ]
        },
        {
          "name": "stderr",
          "output_type": "stream",
          "text": [
            "/usr/local/lib/python3.11/dist-packages/keras/src/layers/core/dense.py:87: UserWarning: Do not pass an `input_shape`/`input_dim` argument to a layer. When using Sequential models, prefer using an `Input(shape)` object as the first layer in the model instead.\n",
            "  super().__init__(activity_regularizer=activity_regularizer, **kwargs)\n"
          ]
        },
        {
          "name": "stdout",
          "output_type": "stream",
          "text": [
            "\u001b[1m4443/4443\u001b[0m \u001b[32m━━━━━━━━━━━━━━━━━━━━\u001b[0m\u001b[37m\u001b[0m \u001b[1m30s\u001b[0m 6ms/step - accuracy: 0.7875 - auc_1: 0.8480 - loss: 0.0591 - val_accuracy: 0.8854 - val_auc_1: 0.9480 - val_loss: 0.0268 - learning_rate: 0.0010\n",
            "Epoch 2/30\n",
            "\u001b[1m4443/4443\u001b[0m \u001b[32m━━━━━━━━━━━━━━━━━━━━\u001b[0m\u001b[37m\u001b[0m \u001b[1m41s\u001b[0m 6ms/step - accuracy: 0.8578 - auc_1: 0.9150 - loss: 0.0358 - val_accuracy: 0.8838 - val_auc_1: 0.9500 - val_loss: 0.0259 - learning_rate: 0.0010\n",
            "Epoch 3/30\n",
            "\u001b[1m4443/4443\u001b[0m \u001b[32m━━━━━━━━━━━━━━━━━━━━\u001b[0m\u001b[37m\u001b[0m \u001b[1m25s\u001b[0m 6ms/step - accuracy: 0.8611 - auc_1: 0.9193 - loss: 0.0347 - val_accuracy: 0.8831 - val_auc_1: 0.9521 - val_loss: 0.0250 - learning_rate: 0.0010\n",
            "Epoch 4/30\n",
            "\u001b[1m4443/4443\u001b[0m \u001b[32m━━━━━━━━━━━━━━━━━━━━\u001b[0m\u001b[37m\u001b[0m \u001b[1m40s\u001b[0m 5ms/step - accuracy: 0.8669 - auc_1: 0.9237 - loss: 0.0331 - val_accuracy: 0.8829 - val_auc_1: 0.9505 - val_loss: 0.0259 - learning_rate: 0.0010\n",
            "Epoch 5/30\n",
            "\u001b[1m4443/4443\u001b[0m \u001b[32m━━━━━━━━━━━━━━━━━━━━\u001b[0m\u001b[37m\u001b[0m \u001b[1m25s\u001b[0m 6ms/step - accuracy: 0.8661 - auc_1: 0.9270 - loss: 0.0328 - val_accuracy: 0.8834 - val_auc_1: 0.9536 - val_loss: 0.0246 - learning_rate: 0.0010\n",
            "Epoch 6/30\n",
            "\u001b[1m4443/4443\u001b[0m \u001b[32m━━━━━━━━━━━━━━━━━━━━\u001b[0m\u001b[37m\u001b[0m \u001b[1m24s\u001b[0m 5ms/step - accuracy: 0.8694 - auc_1: 0.9290 - loss: 0.0323 - val_accuracy: 0.8836 - val_auc_1: 0.9535 - val_loss: 0.0244 - learning_rate: 0.0010\n",
            "Epoch 7/30\n",
            "\u001b[1m4443/4443\u001b[0m \u001b[32m━━━━━━━━━━━━━━━━━━━━\u001b[0m\u001b[37m\u001b[0m \u001b[1m25s\u001b[0m 6ms/step - accuracy: 0.8683 - auc_1: 0.9316 - loss: 0.0321 - val_accuracy: 0.8833 - val_auc_1: 0.9542 - val_loss: 0.0241 - learning_rate: 0.0010\n",
            "Epoch 8/30\n",
            "\u001b[1m4443/4443\u001b[0m \u001b[32m━━━━━━━━━━━━━━━━━━━━\u001b[0m\u001b[37m\u001b[0m \u001b[1m25s\u001b[0m 6ms/step - accuracy: 0.8724 - auc_1: 0.9318 - loss: 0.0312 - val_accuracy: 0.8832 - val_auc_1: 0.9543 - val_loss: 0.0242 - learning_rate: 0.0010\n",
            "Epoch 9/30\n",
            "\u001b[1m4443/4443\u001b[0m \u001b[32m━━━━━━━━━━━━━━━━━━━━\u001b[0m\u001b[37m\u001b[0m \u001b[1m25s\u001b[0m 6ms/step - accuracy: 0.8710 - auc_1: 0.9351 - loss: 0.0309 - val_accuracy: 0.8866 - val_auc_1: 0.9556 - val_loss: 0.0241 - learning_rate: 0.0010\n",
            "Epoch 10/30\n",
            "\u001b[1m4443/4443\u001b[0m \u001b[32m━━━━━━━━━━━━━━━━━━━━\u001b[0m\u001b[37m\u001b[0m \u001b[1m40s\u001b[0m 5ms/step - accuracy: 0.8730 - auc_1: 0.9351 - loss: 0.0308 - val_accuracy: 0.8839 - val_auc_1: 0.9550 - val_loss: 0.0239 - learning_rate: 0.0010\n",
            "Epoch 11/30\n",
            "\u001b[1m4443/4443\u001b[0m \u001b[32m━━━━━━━━━━━━━━━━━━━━\u001b[0m\u001b[37m\u001b[0m \u001b[1m24s\u001b[0m 5ms/step - accuracy: 0.8667 - auc_1: 0.9349 - loss: 0.0314 - val_accuracy: 0.8836 - val_auc_1: 0.9556 - val_loss: 0.0240 - learning_rate: 0.0010\n",
            "Epoch 12/30\n",
            "\u001b[1m4443/4443\u001b[0m \u001b[32m━━━━━━━━━━━━━━━━━━━━\u001b[0m\u001b[37m\u001b[0m \u001b[1m24s\u001b[0m 5ms/step - accuracy: 0.8710 - auc_1: 0.9352 - loss: 0.0312 - val_accuracy: 0.8851 - val_auc_1: 0.9542 - val_loss: 0.0247 - learning_rate: 0.0010\n",
            "Epoch 13/30\n",
            "\u001b[1m4439/4443\u001b[0m \u001b[32m━━━━━━━━━━━━━━━━━━━\u001b[0m\u001b[37m━\u001b[0m \u001b[1m0s\u001b[0m 4ms/step - accuracy: 0.8709 - auc_1: 0.9356 - loss: 0.0308\n",
            "Epoch 13: ReduceLROnPlateau reducing learning rate to 0.0005000000237487257.\n",
            "\u001b[1m4443/4443\u001b[0m \u001b[32m━━━━━━━━━━━━━━━━━━━━\u001b[0m\u001b[37m\u001b[0m \u001b[1m25s\u001b[0m 6ms/step - accuracy: 0.8709 - auc_1: 0.9356 - loss: 0.0308 - val_accuracy: 0.8844 - val_auc_1: 0.9558 - val_loss: 0.0240 - learning_rate: 0.0010\n",
            "Epoch 14/30\n",
            "\u001b[1m4443/4443\u001b[0m \u001b[32m━━━━━━━━━━━━━━━━━━━━\u001b[0m\u001b[37m\u001b[0m \u001b[1m24s\u001b[0m 5ms/step - accuracy: 0.8714 - auc_1: 0.9424 - loss: 0.0296 - val_accuracy: 0.8844 - val_auc_1: 0.9568 - val_loss: 0.0236 - learning_rate: 5.0000e-04\n",
            "Epoch 15/30\n",
            "\u001b[1m4443/4443\u001b[0m \u001b[32m━━━━━━━━━━━━━━━━━━━━\u001b[0m\u001b[37m\u001b[0m \u001b[1m24s\u001b[0m 5ms/step - accuracy: 0.8729 - auc_1: 0.9383 - loss: 0.0304 - val_accuracy: 0.8894 - val_auc_1: 0.9563 - val_loss: 0.0239 - learning_rate: 5.0000e-04\n",
            "Epoch 16/30\n",
            "\u001b[1m4443/4443\u001b[0m \u001b[32m━━━━━━━━━━━━━━━━━━━━\u001b[0m\u001b[37m\u001b[0m \u001b[1m26s\u001b[0m 6ms/step - accuracy: 0.8756 - auc_1: 0.9425 - loss: 0.0294 - val_accuracy: 0.8869 - val_auc_1: 0.9571 - val_loss: 0.0235 - learning_rate: 5.0000e-04\n",
            "Epoch 17/30\n",
            "\u001b[1m4443/4443\u001b[0m \u001b[32m━━━━━━━━━━━━━━━━━━━━\u001b[0m\u001b[37m\u001b[0m \u001b[1m26s\u001b[0m 6ms/step - accuracy: 0.8806 - auc_1: 0.9430 - loss: 0.0290 - val_accuracy: 0.8862 - val_auc_1: 0.9575 - val_loss: 0.0234 - learning_rate: 5.0000e-04\n",
            "Epoch 18/30\n",
            "\u001b[1m4443/4443\u001b[0m \u001b[32m━━━━━━━━━━━━━━━━━━━━\u001b[0m\u001b[37m\u001b[0m \u001b[1m39s\u001b[0m 5ms/step - accuracy: 0.8761 - auc_1: 0.9421 - loss: 0.0291 - val_accuracy: 0.8854 - val_auc_1: 0.9579 - val_loss: 0.0234 - learning_rate: 5.0000e-04\n",
            "Epoch 19/30\n",
            "\u001b[1m4443/4443\u001b[0m \u001b[32m━━━━━━━━━━━━━━━━━━━━\u001b[0m\u001b[37m\u001b[0m \u001b[1m43s\u001b[0m 6ms/step - accuracy: 0.8763 - auc_1: 0.9458 - loss: 0.0287 - val_accuracy: 0.8884 - val_auc_1: 0.9578 - val_loss: 0.0233 - learning_rate: 5.0000e-04\n",
            "Epoch 20/30\n",
            "\u001b[1m4443/4443\u001b[0m \u001b[32m━━━━━━━━━━━━━━━━━━━━\u001b[0m\u001b[37m\u001b[0m \u001b[1m27s\u001b[0m 6ms/step - accuracy: 0.8771 - auc_1: 0.9431 - loss: 0.0293 - val_accuracy: 0.8899 - val_auc_1: 0.9575 - val_loss: 0.0236 - learning_rate: 5.0000e-04\n",
            "Epoch 21/30\n",
            "\u001b[1m4443/4443\u001b[0m \u001b[32m━━━━━━━━━━━━━━━━━━━━\u001b[0m\u001b[37m\u001b[0m \u001b[1m41s\u001b[0m 6ms/step - accuracy: 0.8744 - auc_1: 0.9447 - loss: 0.0289 - val_accuracy: 0.8884 - val_auc_1: 0.9576 - val_loss: 0.0236 - learning_rate: 5.0000e-04\n",
            "Epoch 22/30\n",
            "\u001b[1m4431/4443\u001b[0m \u001b[32m━━━━━━━━━━━━━━━━━━━\u001b[0m\u001b[37m━\u001b[0m \u001b[1m0s\u001b[0m 5ms/step - accuracy: 0.8776 - auc_1: 0.9432 - loss: 0.0292\n",
            "Epoch 22: ReduceLROnPlateau reducing learning rate to 0.0002500000118743628.\n",
            "\u001b[1m4443/4443\u001b[0m \u001b[32m━━━━━━━━━━━━━━━━━━━━\u001b[0m\u001b[37m\u001b[0m \u001b[1m40s\u001b[0m 6ms/step - accuracy: 0.8776 - auc_1: 0.9432 - loss: 0.0292 - val_accuracy: 0.8879 - val_auc_1: 0.9575 - val_loss: 0.0235 - learning_rate: 5.0000e-04\n",
            "Epoch 23/30\n",
            "\u001b[1m4443/4443\u001b[0m \u001b[32m━━━━━━━━━━━━━━━━━━━━\u001b[0m\u001b[37m\u001b[0m \u001b[1m41s\u001b[0m 6ms/step - accuracy: 0.8756 - auc_1: 0.9440 - loss: 0.0292 - val_accuracy: 0.8864 - val_auc_1: 0.9576 - val_loss: 0.0235 - learning_rate: 2.5000e-04\n",
            "Epoch 24/30\n",
            "\u001b[1m4443/4443\u001b[0m \u001b[32m━━━━━━━━━━━━━━━━━━━━\u001b[0m\u001b[37m\u001b[0m \u001b[1m25s\u001b[0m 6ms/step - accuracy: 0.8806 - auc_1: 0.9473 - loss: 0.0280 - val_accuracy: 0.8919 - val_auc_1: 0.9583 - val_loss: 0.0232 - learning_rate: 2.5000e-04\n",
            "Epoch 25/30\n",
            "\u001b[1m4443/4443\u001b[0m \u001b[32m━━━━━━━━━━━━━━━━━━━━\u001b[0m\u001b[37m\u001b[0m \u001b[1m41s\u001b[0m 6ms/step - accuracy: 0.8758 - auc_1: 0.9464 - loss: 0.0286 - val_accuracy: 0.8887 - val_auc_1: 0.9583 - val_loss: 0.0234 - learning_rate: 2.5000e-04\n",
            "Epoch 26/30\n",
            "\u001b[1m4443/4443\u001b[0m \u001b[32m━━━━━━━━━━━━━━━━━━━━\u001b[0m\u001b[37m\u001b[0m \u001b[1m41s\u001b[0m 6ms/step - accuracy: 0.8763 - auc_1: 0.9460 - loss: 0.0287 - val_accuracy: 0.8883 - val_auc_1: 0.9584 - val_loss: 0.0235 - learning_rate: 2.5000e-04\n",
            "Epoch 27/30\n",
            "\u001b[1m4441/4443\u001b[0m \u001b[32m━━━━━━━━━━━━━━━━━━━\u001b[0m\u001b[37m━\u001b[0m \u001b[1m0s\u001b[0m 4ms/step - accuracy: 0.8770 - auc_1: 0.9470 - loss: 0.0284\n",
            "Epoch 27: ReduceLROnPlateau reducing learning rate to 0.0001250000059371814.\n",
            "\u001b[1m4443/4443\u001b[0m \u001b[32m━━━━━━━━━━━━━━━━━━━━\u001b[0m\u001b[37m\u001b[0m \u001b[1m25s\u001b[0m 6ms/step - accuracy: 0.8770 - auc_1: 0.9470 - loss: 0.0284 - val_accuracy: 0.8870 - val_auc_1: 0.9587 - val_loss: 0.0233 - learning_rate: 2.5000e-04\n",
            "Epoch 28/30\n",
            "\u001b[1m4443/4443\u001b[0m \u001b[32m━━━━━━━━━━━━━━━━━━━━\u001b[0m\u001b[37m\u001b[0m \u001b[1m25s\u001b[0m 6ms/step - accuracy: 0.8788 - auc_1: 0.9484 - loss: 0.0279 - val_accuracy: 0.8920 - val_auc_1: 0.9587 - val_loss: 0.0238 - learning_rate: 1.2500e-04\n",
            "Epoch 29/30\n",
            "\u001b[1m4443/4443\u001b[0m \u001b[32m━━━━━━━━━━━━━━━━━━━━\u001b[0m\u001b[37m\u001b[0m \u001b[1m41s\u001b[0m 6ms/step - accuracy: 0.8757 - auc_1: 0.9475 - loss: 0.0284 - val_accuracy: 0.8893 - val_auc_1: 0.9592 - val_loss: 0.0231 - learning_rate: 1.2500e-04\n",
            "Epoch 30/30\n",
            "\u001b[1m4434/4443\u001b[0m \u001b[32m━━━━━━━━━━━━━━━━━━━\u001b[0m\u001b[37m━\u001b[0m \u001b[1m0s\u001b[0m 4ms/step - accuracy: 0.8756 - auc_1: 0.9489 - loss: 0.0284\n",
            "Epoch 30: ReduceLROnPlateau reducing learning rate to 6.25000029685907e-05.\n",
            "\u001b[1m4443/4443\u001b[0m \u001b[32m━━━━━━━━━━━━━━━━━━━━\u001b[0m\u001b[37m\u001b[0m \u001b[1m24s\u001b[0m 5ms/step - accuracy: 0.8756 - auc_1: 0.9489 - loss: 0.0284 - val_accuracy: 0.8902 - val_auc_1: 0.9587 - val_loss: 0.0234 - learning_rate: 1.2500e-04\n"
          ]
        }
      ],
      "source": [
        "# -----------------------------\n",
        "# Train the Model\n",
        "# -----------------------------\n",
        "input_dim = X_train.shape[1] # Get the number of features from the training data\n",
        "model = build_model(input_dim)\n",
        "history = model.fit(\n",
        "    X_train, y_train,\n",
        "    validation_data=(X_test, y_test),\n",
        "    epochs=30,\n",
        "    batch_size=8,\n",
        "    #class_weight=class_weights,\n",
        "    callbacks=[reduce_lr],\n",
        "    verbose=1\n",
        ")"
      ]
    },
    {
      "cell_type": "code",
      "execution_count": 63,
      "metadata": {
        "colab": {
          "base_uri": "https://localhost:8080/"
        },
        "id": "ZH_el4NGv2np",
        "outputId": "3e5167eb-a568-477a-a730-01dab99fc400"
      },
      "outputs": [
        {
          "name": "stdout",
          "output_type": "stream",
          "text": [
            "Test Loss: 0.0234\n",
            "Test Accuracy: 0.8902\n",
            "Test AUC: 0.9587\n",
            "\u001b[1m476/476\u001b[0m \u001b[32m━━━━━━━━━━━━━━━━━━━━\u001b[0m\u001b[37m\u001b[0m \u001b[1m1s\u001b[0m 2ms/step\n",
            "Accuracy: 0.89\n",
            "Precision: 0.99\n",
            "Recall: 0.78\n",
            "F1 Score: 0.88\n",
            "ROC-AUC Score: 0.96\n"
          ]
        }
      ],
      "source": [
        "# -----------------------------\n",
        "# Evaluate the Model\n",
        "# -----------------------------\n",
        "loss, accuracy, auc = model.evaluate(X_test, y_test, verbose=0)\n",
        "print(f\"Test Loss: {loss:.4f}\")\n",
        "print(f\"Test Accuracy: {accuracy:.4f}\")\n",
        "print(f\"Test AUC: {auc:.4f}\")\n",
        "\n",
        "from sklearn.metrics import accuracy_score, precision_score, recall_score, f1_score, roc_auc_score, confusion_matrix, ConfusionMatrixDisplay\n",
        "\n",
        "y_pred_prob = model.predict(X_test).ravel()\n",
        "y_pred = (y_pred_prob > 0.5).astype(int)\n",
        "\n",
        "accuracy_sc = accuracy_score(y_test, y_pred)\n",
        "precision_sc = precision_score(y_test, y_pred)\n",
        "recall_sc = recall_score(y_test, y_pred)\n",
        "f1_sc = f1_score(y_test, y_pred)\n",
        "roc_auc_sc = roc_auc_score(y_test, y_pred_prob)\n",
        "\n",
        "print(f\"Accuracy: {accuracy_sc:.2f}\")\n",
        "print(f\"Precision: {precision_sc:.2f}\")\n",
        "print(f\"Recall: {recall_sc:.2f}\")\n",
        "print(f\"F1 Score: {f1_sc:.2f}\")\n",
        "print(f\"ROC-AUC Score: {roc_auc_sc:.2f}\")"
      ]
    },
    {
      "cell_type": "code",
      "execution_count": 64,
      "metadata": {
        "colab": {
          "base_uri": "https://localhost:8080/",
          "height": 490
        },
        "id": "0gB0Y004vKGJ",
        "outputId": "2f2aed41-0fd1-47c2-f6c5-347b77271aea"
      },
      "outputs": [
        {
          "data": {
            "text/plain": [
              "<Figure size 600x600 with 0 Axes>"
            ]
          },
          "metadata": {},
          "output_type": "display_data"
        },
        {
          "data": {
            "image/png": "[encoded data removed]",
            "text/plain": [
              "<Figure size 640x480 with 2 Axes>"
            ]
          },
          "metadata": {},
          "output_type": "display_data"
        }
      ],
      "source": [
        "# Plot confusion matrix\n",
        "cm = confusion_matrix(y_test, y_pred)\n",
        "disp = ConfusionMatrixDisplay(confusion_matrix=cm, display_labels=[\"Not Exploited\", \"Exploited\"])\n",
        "plt.figure(figsize=(6, 6))\n",
        "disp.plot(cmap='Blues', values_format='d')\n",
        "plt.title(\"Confusion Matrix\")\n",
        "plt.grid(False)\n",
        "plt.show()"
      ]
    },
    {
      "cell_type": "code",
      "execution_count": 65,
      "metadata": {
        "colab": {
          "base_uri": "https://localhost:8080/",
          "height": 625
        },
        "id": "wO26_fFeQmzK",
        "outputId": "8444fd73-a78d-40aa-b604-cb8c2be9daf0"
      },
      "outputs": [
        {
          "data": {
            "text/html": [
              "<pre style=\"white-space:pre;overflow-x:auto;line-height:normal;font-family:Menlo,'DejaVu Sans Mono',consolas,'Courier New',monospace\"><span style=\"font-weight: bold\">Model: \"sequential_1\"</span>\n",
              "</pre>\n"
            ],
            "text/plain": [
              "\u001b[1mModel: \"sequential_1\"\u001b[0m\n"
            ]
          },
          "metadata": {},
          "output_type": "display_data"
        },
        {
          "data": {
            "text/html": [
              "<pre style=\"white-space:pre;overflow-x:auto;line-height:normal;font-family:Menlo,'DejaVu Sans Mono',consolas,'Courier New',monospace\">┏━━━━━━━━━━━━━━━━━━━━━━━━━━━━━━━━━┳━━━━━━━━━━━━━━━━━━━━━━━━┳━━━━━━━━━━━━━━━┓\n",
              "┃<span style=\"font-weight: bold\"> Layer (type)                    </span>┃<span style=\"font-weight: bold\"> Output Shape           </span>┃<span style=\"font-weight: bold\">       Param # </span>┃\n",
              "┡━━━━━━━━━━━━━━━━━━━━━━━━━━━━━━━━━╇━━━━━━━━━━━━━━━━━━━━━━━━╇━━━━━━━━━━━━━━━┩\n",
              "│ dense_5 (<span style=\"color: #0087ff; text-decoration-color: #0087ff\">Dense</span>)                 │ (<span style=\"color: #00d7ff; text-decoration-color: #00d7ff\">None</span>, <span style=\"color: #00af00; text-decoration-color: #00af00\">128</span>)            │        <span style=\"color: #00af00; text-decoration-color: #00af00\">20,736</span> │\n",
              "├─────────────────────────────────┼────────────────────────┼───────────────┤\n",
              "│ batch_normalization_4           │ (<span style=\"color: #00d7ff; text-decoration-color: #00d7ff\">None</span>, <span style=\"color: #00af00; text-decoration-color: #00af00\">128</span>)            │           <span style=\"color: #00af00; text-decoration-color: #00af00\">512</span> │\n",
              "│ (<span style=\"color: #0087ff; text-decoration-color: #0087ff\">BatchNormalization</span>)            │                        │               │\n",
              "├─────────────────────────────────┼────────────────────────┼───────────────┤\n",
              "│ dropout_4 (<span style=\"color: #0087ff; text-decoration-color: #0087ff\">Dropout</span>)             │ (<span style=\"color: #00d7ff; text-decoration-color: #00d7ff\">None</span>, <span style=\"color: #00af00; text-decoration-color: #00af00\">128</span>)            │             <span style=\"color: #00af00; text-decoration-color: #00af00\">0</span> │\n",
              "├─────────────────────────────────┼────────────────────────┼───────────────┤\n",
              "│ dense_6 (<span style=\"color: #0087ff; text-decoration-color: #0087ff\">Dense</span>)                 │ (<span style=\"color: #00d7ff; text-decoration-color: #00d7ff\">None</span>, <span style=\"color: #00af00; text-decoration-color: #00af00\">64</span>)             │         <span style=\"color: #00af00; text-decoration-color: #00af00\">8,256</span> │\n",
              "├─────────────────────────────────┼────────────────────────┼───────────────┤\n",
              "│ batch_normalization_5           │ (<span style=\"color: #00d7ff; text-decoration-color: #00d7ff\">None</span>, <span style=\"color: #00af00; text-decoration-color: #00af00\">64</span>)             │           <span style=\"color: #00af00; text-decoration-color: #00af00\">256</span> │\n",
              "│ (<span style=\"color: #0087ff; text-decoration-color: #0087ff\">BatchNormalization</span>)            │                        │               │\n",
              "├─────────────────────────────────┼────────────────────────┼───────────────┤\n",
              "│ dropout_5 (<span style=\"color: #0087ff; text-decoration-color: #0087ff\">Dropout</span>)             │ (<span style=\"color: #00d7ff; text-decoration-color: #00d7ff\">None</span>, <span style=\"color: #00af00; text-decoration-color: #00af00\">64</span>)             │             <span style=\"color: #00af00; text-decoration-color: #00af00\">0</span> │\n",
              "├─────────────────────────────────┼────────────────────────┼───────────────┤\n",
              "│ dense_7 (<span style=\"color: #0087ff; text-decoration-color: #0087ff\">Dense</span>)                 │ (<span style=\"color: #00d7ff; text-decoration-color: #00d7ff\">None</span>, <span style=\"color: #00af00; text-decoration-color: #00af00\">32</span>)             │         <span style=\"color: #00af00; text-decoration-color: #00af00\">2,080</span> │\n",
              "├─────────────────────────────────┼────────────────────────┼───────────────┤\n",
              "│ batch_normalization_6           │ (<span style=\"color: #00d7ff; text-decoration-color: #00d7ff\">None</span>, <span style=\"color: #00af00; text-decoration-color: #00af00\">32</span>)             │           <span style=\"color: #00af00; text-decoration-color: #00af00\">128</span> │\n",
              "│ (<span style=\"color: #0087ff; text-decoration-color: #0087ff\">BatchNormalization</span>)            │                        │               │\n",
              "├─────────────────────────────────┼────────────────────────┼───────────────┤\n",
              "│ dropout_6 (<span style=\"color: #0087ff; text-decoration-color: #0087ff\">Dropout</span>)             │ (<span style=\"color: #00d7ff; text-decoration-color: #00d7ff\">None</span>, <span style=\"color: #00af00; text-decoration-color: #00af00\">32</span>)             │             <span style=\"color: #00af00; text-decoration-color: #00af00\">0</span> │\n",
              "├─────────────────────────────────┼────────────────────────┼───────────────┤\n",
              "│ dense_8 (<span style=\"color: #0087ff; text-decoration-color: #0087ff\">Dense</span>)                 │ (<span style=\"color: #00d7ff; text-decoration-color: #00d7ff\">None</span>, <span style=\"color: #00af00; text-decoration-color: #00af00\">16</span>)             │           <span style=\"color: #00af00; text-decoration-color: #00af00\">528</span> │\n",
              "├─────────────────────────────────┼────────────────────────┼───────────────┤\n",
              "│ batch_normalization_7           │ (<span style=\"color: #00d7ff; text-decoration-color: #00d7ff\">None</span>, <span style=\"color: #00af00; text-decoration-color: #00af00\">16</span>)             │            <span style=\"color: #00af00; text-decoration-color: #00af00\">64</span> │\n",
              "│ (<span style=\"color: #0087ff; text-decoration-color: #0087ff\">BatchNormalization</span>)            │                        │               │\n",
              "├─────────────────────────────────┼────────────────────────┼───────────────┤\n",
              "│ dropout_7 (<span style=\"color: #0087ff; text-decoration-color: #0087ff\">Dropout</span>)             │ (<span style=\"color: #00d7ff; text-decoration-color: #00d7ff\">None</span>, <span style=\"color: #00af00; text-decoration-color: #00af00\">16</span>)             │             <span style=\"color: #00af00; text-decoration-color: #00af00\">0</span> │\n",
              "├─────────────────────────────────┼────────────────────────┼───────────────┤\n",
              "│ dense_9 (<span style=\"color: #0087ff; text-decoration-color: #0087ff\">Dense</span>)                 │ (<span style=\"color: #00d7ff; text-decoration-color: #00d7ff\">None</span>, <span style=\"color: #00af00; text-decoration-color: #00af00\">1</span>)              │            <span style=\"color: #00af00; text-decoration-color: #00af00\">17</span> │\n",
              "└─────────────────────────────────┴────────────────────────┴───────────────┘\n",
              "</pre>\n"
            ],
            "text/plain": [
              "┏━━━━━━━━━━━━━━━━━━━━━━━━━━━━━━━━━┳━━━━━━━━━━━━━━━━━━━━━━━━┳━━━━━━━━━━━━━━━┓\n",
              "┃\u001b[1m \u001b[0m\u001b[1mLayer (type)                   \u001b[0m\u001b[1m \u001b[0m┃\u001b[1m \u001b[0m\u001b[1mOutput Shape          \u001b[0m\u001b[1m \u001b[0m┃\u001b[1m \u001b[0m\u001b[1m      Param #\u001b[0m\u001b[1m \u001b[0m┃\n",
              "┡━━━━━━━━━━━━━━━━━━━━━━━━━━━━━━━━━╇━━━━━━━━━━━━━━━━━━━━━━━━╇━━━━━━━━━━━━━━━┩\n",
              "│ dense_5 (\u001b[38;5;33mDense\u001b[0m)                 │ (\u001b[38;5;45mNone\u001b[0m, \u001b[38;5;34m128\u001b[0m)            │        \u001b[38;5;34m20,736\u001b[0m │\n",
              "├─────────────────────────────────┼────────────────────────┼───────────────┤\n",
              "│ batch_normalization_4           │ (\u001b[38;5;45mNone\u001b[0m, \u001b[38;5;34m128\u001b[0m)            │           \u001b[38;5;34m512\u001b[0m │\n",
              "│ (\u001b[38;5;33mBatchNormalization\u001b[0m)            │                        │               │\n",
              "├─────────────────────────────────┼────────────────────────┼───────────────┤\n",
              "│ dropout_4 (\u001b[38;5;33mDropout\u001b[0m)             │ (\u001b[38;5;45mNone\u001b[0m, \u001b[38;5;34m128\u001b[0m)            │             \u001b[38;5;34m0\u001b[0m │\n",
              "├─────────────────────────────────┼────────────────────────┼───────────────┤\n",
              "│ dense_6 (\u001b[38;5;33mDense\u001b[0m)                 │ (\u001b[38;5;45mNone\u001b[0m, \u001b[38;5;34m64\u001b[0m)             │         \u001b[38;5;34m8,256\u001b[0m │\n",
              "├─────────────────────────────────┼────────────────────────┼───────────────┤\n",
              "│ batch_normalization_5           │ (\u001b[38;5;45mNone\u001b[0m, \u001b[38;5;34m64\u001b[0m)             │           \u001b[38;5;34m256\u001b[0m │\n",
              "│ (\u001b[38;5;33mBatchNormalization\u001b[0m)            │                        │               │\n",
              "├─────────────────────────────────┼────────────────────────┼───────────────┤\n",
              "│ dropout_5 (\u001b[38;5;33mDropout\u001b[0m)             │ (\u001b[38;5;45mNone\u001b[0m, \u001b[38;5;34m64\u001b[0m)             │             \u001b[38;5;34m0\u001b[0m │\n",
              "├─────────────────────────────────┼────────────────────────┼───────────────┤\n",
              "│ dense_7 (\u001b[38;5;33mDense\u001b[0m)                 │ (\u001b[38;5;45mNone\u001b[0m, \u001b[38;5;34m32\u001b[0m)             │         \u001b[38;5;34m2,080\u001b[0m │\n",
              "├─────────────────────────────────┼────────────────────────┼───────────────┤\n",
              "│ batch_normalization_6           │ (\u001b[38;5;45mNone\u001b[0m, \u001b[38;5;34m32\u001b[0m)             │           \u001b[38;5;34m128\u001b[0m │\n",
              "│ (\u001b[38;5;33mBatchNormalization\u001b[0m)            │                        │               │\n",
              "├─────────────────────────────────┼────────────────────────┼───────────────┤\n",
              "│ dropout_6 (\u001b[38;5;33mDropout\u001b[0m)             │ (\u001b[38;5;45mNone\u001b[0m, \u001b[38;5;34m32\u001b[0m)             │             \u001b[38;5;34m0\u001b[0m │\n",
              "├─────────────────────────────────┼────────────────────────┼───────────────┤\n",
              "│ dense_8 (\u001b[38;5;33mDense\u001b[0m)                 │ (\u001b[38;5;45mNone\u001b[0m, \u001b[38;5;34m16\u001b[0m)             │           \u001b[38;5;34m528\u001b[0m │\n",
              "├─────────────────────────────────┼────────────────────────┼───────────────┤\n",
              "│ batch_normalization_7           │ (\u001b[38;5;45mNone\u001b[0m, \u001b[38;5;34m16\u001b[0m)             │            \u001b[38;5;34m64\u001b[0m │\n",
              "│ (\u001b[38;5;33mBatchNormalization\u001b[0m)            │                        │               │\n",
              "├─────────────────────────────────┼────────────────────────┼───────────────┤\n",
              "│ dropout_7 (\u001b[38;5;33mDropout\u001b[0m)             │ (\u001b[38;5;45mNone\u001b[0m, \u001b[38;5;34m16\u001b[0m)             │             \u001b[38;5;34m0\u001b[0m │\n",
              "├─────────────────────────────────┼────────────────────────┼───────────────┤\n",
              "│ dense_9 (\u001b[38;5;33mDense\u001b[0m)                 │ (\u001b[38;5;45mNone\u001b[0m, \u001b[38;5;34m1\u001b[0m)              │            \u001b[38;5;34m17\u001b[0m │\n",
              "└─────────────────────────────────┴────────────────────────┴───────────────┘\n"
            ]
          },
          "metadata": {},
          "output_type": "display_data"
        },
        {
          "data": {
            "text/html": [
              "<pre style=\"white-space:pre;overflow-x:auto;line-height:normal;font-family:Menlo,'DejaVu Sans Mono',consolas,'Courier New',monospace\"><span style=\"font-weight: bold\"> Total params: </span><span style=\"color: #00af00; text-decoration-color: #00af00\">96,773</span> (378.02 KB)\n",
              "</pre>\n"
            ],
            "text/plain": [
              "\u001b[1m Total params: \u001b[0m\u001b[38;5;34m96,773\u001b[0m (378.02 KB)\n"
            ]
          },
          "metadata": {},
          "output_type": "display_data"
        },
        {
          "data": {
            "text/html": [
              "<pre style=\"white-space:pre;overflow-x:auto;line-height:normal;font-family:Menlo,'DejaVu Sans Mono',consolas,'Courier New',monospace\"><span style=\"font-weight: bold\"> Trainable params: </span><span style=\"color: #00af00; text-decoration-color: #00af00\">32,097</span> (125.38 KB)\n",
              "</pre>\n"
            ],
            "text/plain": [
              "\u001b[1m Trainable params: \u001b[0m\u001b[38;5;34m32,097\u001b[0m (125.38 KB)\n"
            ]
          },
          "metadata": {},
          "output_type": "display_data"
        },
        {
          "data": {
            "text/html": [
              "<pre style=\"white-space:pre;overflow-x:auto;line-height:normal;font-family:Menlo,'DejaVu Sans Mono',consolas,'Courier New',monospace\"><span style=\"font-weight: bold\"> Non-trainable params: </span><span style=\"color: #00af00; text-decoration-color: #00af00\">480</span> (1.88 KB)\n",
              "</pre>\n"
            ],
            "text/plain": [
              "\u001b[1m Non-trainable params: \u001b[0m\u001b[38;5;34m480\u001b[0m (1.88 KB)\n"
            ]
          },
          "metadata": {},
          "output_type": "display_data"
        },
        {
          "data": {
            "text/html": [
              "<pre style=\"white-space:pre;overflow-x:auto;line-height:normal;font-family:Menlo,'DejaVu Sans Mono',consolas,'Courier New',monospace\"><span style=\"font-weight: bold\"> Optimizer params: </span><span style=\"color: #00af00; text-decoration-color: #00af00\">64,196</span> (250.77 KB)\n",
              "</pre>\n"
            ],
            "text/plain": [
              "\u001b[1m Optimizer params: \u001b[0m\u001b[38;5;34m64,196\u001b[0m (250.77 KB)\n"
            ]
          },
          "metadata": {},
          "output_type": "display_data"
        }
      ],
      "source": [
        "model.summary()"
      ]
    },
    {
      "cell_type": "code",
      "execution_count": 66,
      "metadata": {
        "colab": {
          "base_uri": "https://localhost:8080/"
        },
        "id": "BTAKs-OBT4SJ",
        "outputId": "78b8e4bb-a27d-461a-932d-b4079382d219"
      },
      "outputs": [
        {
          "name": "stderr",
          "output_type": "stream",
          "text": [
            "WARNING:absl:You are saving your model as an HDF5 file via `model.save()` or `keras.saving.save_model(model)`. This file format is considered legacy. We recommend using instead the native Keras format, e.g. `model.save('my_model.keras')` or `keras.saving.save_model(model, 'my_model.keras')`. \n"
          ]
        }
      ],
      "source": [
        "model.save('finally_model.h5')"
      ]
    },
    {
      "cell_type": "code",
      "execution_count": 18,
      "metadata": {
        "colab": {
          "base_uri": "https://localhost:8080/"
        },
        "id": "mcgYoDjSFtm1",
        "outputId": "e3219290-ceed-4db5-fd54-77b02823201b"
      },
      "outputs": [
        {
          "name": "stdout",
          "output_type": "stream",
          "text": [
            "Drive already mounted at /content/drive; to attempt to forcibly remount, call drive.mount(\"/content/drive\", force_remount=True).\n"
          ]
        }
      ],
      "source": [
        "# Step 2: Mount and Load processed data\n",
        "from google.colab import drive\n",
        "drive.mount('/content/drive')\n",
        "\n",
        "X = np.save('/content/drive/MyDrive/dataSaved/X.npy',X)\n",
        "y = np.save('/content/drive/MyDrive/dataSaved/y.npy',y)\n",
        "X_test = np.save('/content/drive/MyDrive/dataSaved/X_test.npy',X_test)\n",
        "y_test = np.save('/content/drive/MyDrive/dataSaved/y_test.npy',y_test)\n",
        "X_train = np.save('/content/drive/MyDrive/dataSaved/X_train.npy',X_train)\n",
        "y_train = np.save('/content/drive/MyDrive/dataSaved/y_train.npy',y_train)\n"
      ]
    },
    {
      "cell_type": "code",
      "execution_count": null,
      "metadata": {
        "id": "0Ywr-wUrNaWv"
      },
      "outputs": [],
      "source": [
        "# Save to file in the current working directory\n",
        "pkl_filename = \"model.pkl\"\n",
        "with open(pkl_filename, 'wb') as file:\n",
        "    pickle.dump(model, file)\n",
        "\n",
        "# Load from file\n",
        "with open(pkl_filename, 'rb') as file:\n",
        "    pickle_model = pickle.load(file)\n",
        "\n",
        "# Calculate the accuracy score and predict target values\n",
        "score = pickle_model.score(x_test, y_test)\n",
        "print(\"Test score: {0:.2f} %\".format(100 * score))\n",
        "Ypredict = pickle_model.predict(x_test)"
      ]
    },
    {
      "cell_type": "code",
      "execution_count": null,
      "metadata": {
        "id": "ifTi8-iZT5kG"
      },
      "outputs": [],
      "source": [
        "# prompt: ft_model = FastText.load(\"ft_model.bin\")\n",
        "# tfidf_vectorizer = joblib.load(\"tfidf_vectorizer.pkl\")\n",
        "# svd = joblib.load(\"svd.pkl\")\n",
        "# encoder = joblib.load(\"onehot_encoder.pkl\")\n",
        "# config = joblib.load(\"preprocessing_config.json\")\n",
        "# i want to make this files\n",
        "\n",
        "import joblib\n",
        "import json\n",
        "\n",
        "# Assuming ft_model, tfidf_vectorizer, svd, and encoder are already defined and trained\n",
        "\n",
        "# Save FastText model\n",
        "ft_model.save(\"ft_model.bin\")\n",
        "\n",
        "# Save TF-IDF vectorizer\n",
        "joblib.dump(tfidf_vectorizer, \"tfidf_vectorizer.pkl\")\n",
        "\n",
        "# Save SVD model\n",
        "joblib.dump(svd, \"svd.pkl\")\n",
        "\n",
        "# Save OneHotEncoder (assuming 'encoder' is your OneHotEncoder object)\n",
        "joblib.dump(encoder, \"onehot_encoder.pkl\")\n",
        "\n",
        "\n",
        "# Example preprocessing configuration (replace with your actual configuration)\n",
        "preprocessing_config = {\n",
        "    \"max_features\": 1000,\n",
        "    \"stop_words\": \"english\",\n",
        "    \"svd_components\": 50,\n",
        "    # Add other relevant configuration parameters\n",
        "}\n",
        "\n",
        "# Save preprocessing config as JSON\n",
        "with open(\"preprocessing_config.json\", \"w\") as f:\n",
        "    json.dump(preprocessing_config, f)\n"
      ]
    },
    {
      "cell_type": "code",
      "execution_count": null,
      "metadata": {
        "id": "TAMaBCWtix39"
      },
      "outputs": [],
      "source": [
        "!pip install flask"
      ]
    },
    {
      "cell_type": "code",
      "execution_count": null,
      "metadata": {
        "id": "S0drX79riv39"
      },
      "outputs": [],
      "source": [
        "from flask import Flask, request, jsonify\n",
        "import numpy as np\n",
        "import pandas as pd\n",
        "import tensorflow as tf\n",
        "from gensim.models import FastText\n",
        "import joblib\n",
        "from nltk.tokenize import word_tokenize\n",
        "\n",
        "app = Flask(__name__)\n",
        "\n",
        "# Load artifacts\n",
        "model = tf.keras.models.load_model('model.h5', custom_objects={'focal_loss_fixed': focal_loss(gamma=2., alpha=0.25)})\n",
        "ft_model = FastText.load(\"ft_model.bin\")\n",
        "tfidf_vectorizer = joblib.load(\"tfidf_vectorizer.pkl\")\n",
        "svd = joblib.load(\"svd.pkl\")\n",
        "encoder = joblib.load(\"onehot_encoder.pkl\")\n",
        "config = joblib.load(\"preprocessing_config.json\")\n",
        "\n",
        "def preprocess_input(data):\n",
        "    # Tokenize description\n",
        "    tokens = word_tokenize(data['description'].lower())\n",
        "\n",
        "    # FastText vector\n",
        "    vec = description_to_vec(tokens, ft_model).reshape(1, -1)\n",
        "\n",
        "    # TF-IDF + SVD\n",
        "    tfidf = tfidf_vectorizer.transform([data['description']])\n",
        "    tfidf_reduced = svd.transform(tfidf)\n",
        "\n",
        "    # Categorical encoding\n",
        "    cat_data = [[data[col] for col in config['cat_cols']]]\n",
        "    cat_encoded = encoder.transform(cat_data)\n",
        "\n",
        "    # Numeric + missing flags\n",
        "    num_data = [data[col] for col in config['num_cols'] + config['miss_cols']]\n",
        "    num_array = np.array(num_data).reshape(1, -1)\n",
        "\n",
        "    # Combine all features\n",
        "    return np.hstack([vec, tfidf_reduced, cat_encoded, num_array])\n",
        "\n",
        "@app.route('/predict', methods=['POST'])\n",
        "def predict():\n",
        "    try:\n",
        "        data = request.json\n",
        "        processed_data = preprocess_input(data)\n",
        "        prediction = model.predict(processed_data)[0][0]\n",
        "        return jsonify({\"prediction\": float(prediction), \"exploited\": bool(prediction > 0.5)})\n",
        "    except Exception as e:\n",
        "        return jsonify({\"error\": str(e)}), 400\n",
        "\n",
        "if __name__ == '__main__':\n",
        "    app.run(host='0.0.0.0', port=5000, debug=False)"
      ]
    }
  ],
  "metadata": {
    "accelerator": "GPU",
    "colab": {
      "gpuType": "T4",
      "provenance": []
    },
    "kernelspec": {
      "display_name": "Python 3",
      "name": "python3"
    },
    "language_info": {
      "name": "python"
    }
  },
  "nbformat": 4,
  "nbformat_minor": 0
}
